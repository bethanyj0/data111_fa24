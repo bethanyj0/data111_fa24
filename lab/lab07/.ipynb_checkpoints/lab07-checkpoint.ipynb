{
 "cells": [
  {
   "cell_type": "code",
   "execution_count": null,
   "id": "37fa18ca",
   "metadata": {
    "deletable": false,
    "editable": false
   },
   "outputs": [],
   "source": [
    "# Initialize Otter\n",
    "import otter\n",
    "grader = otter.Notebook(\"lab07.ipynb\")"
   ]
  },
  {
   "cell_type": "markdown",
   "id": "13b159df",
   "metadata": {},
   "source": [
    "# Lab 7: A/B Testing Application\n",
    "\n",
    "Welcome to Data 111 Lab 7! This week's lab will focus on an interesting application of A/B Testing. We will begin with a discussion and then do an exercise using data from Karuk and Yurok tribes. Since we are already familiar with A/B testing, let's focus our attention on the discussion today. This discussion may include some heavy topics, so take your time to ponder and share throughout this process. \n",
    "\n",
    "**Submission**: Once you’re finished, run all cells besides the last one, select File > Save Notebook, and then execute the final cell. Then submit the downloaded zip file, that includes your notebook..\n",
    "\n",
    "First, set up the notebook by running the cell below."
   ]
  },
  {
   "cell_type": "code",
   "execution_count": null,
   "id": "5d6594c5",
   "metadata": {
    "tags": []
   },
   "outputs": [],
   "source": [
    "# Run this cell to set up the notebook, but please don't change it.\n",
    "\n",
    "# These lines import the Numpy and Datascience modules.\n",
    "import numpy as np\n",
    "from datascience import *\n",
    "\n",
    "# These lines do some fancy plotting magic.\n",
    "import matplotlib\n",
    "%matplotlib inline\n",
    "import matplotlib.pyplot as plots\n",
    "plots.style.use('fivethirtyeight')\n",
    "import warnings\n",
    "warnings.simplefilter('ignore', (FutureWarning, np.VisibleDeprecationWarning))"
   ]
  },
  {
   "cell_type": "markdown",
   "id": "0ac80f92",
   "metadata": {},
   "source": [
    "# Discussion: Traditional Ecological Knowledge\n",
    "\n",
    "Indigenous people are the people who have inhabited a land area from the earliest times, before colonization, and have a way of life that is *inextricably linked* to that land. Over many thousands of years and more, indegenous folks learn and pass down wisdom about how humans can best support the local ecosystem they are a part of and depend on. This wisdom is sometimes called \"Traditional Ecological Knowledge\" (TEK). Invasion by colonization across the world has caused many genocides of indigenous people and their lands, and has attempted to erase indigenous culture and TEK. Watch [this video](https://www.youtube.com/watch?v=T-azcPugmKQ) to see the impacts of colonialism on indigenous peoples here and discuss the following question:"
   ]
  },
  {
   "cell_type": "markdown",
   "id": "044af848",
   "metadata": {},
   "source": [
    "<!-- BEGIN QUESTION -->\n",
    "\n",
    "**Discussion Question 1:** What are the ways that colonialism harmed/harms the indigenous people of our region?"
   ]
  },
  {
   "cell_type": "markdown",
   "id": "38b4e7f2",
   "metadata": {},
   "source": [
    "_Type your answer here, replacing this text._"
   ]
  },
  {
   "cell_type": "markdown",
   "id": "337191b9",
   "metadata": {},
   "source": [
    "<!-- END QUESTION -->\n",
    "\n",
    "<!-- BEGIN QUESTION -->\n",
    "\n",
    "**Discussion Question 2:** \"Western\" science (like you are learning in this class) has been dominated by folks from colonialist cultures. It is a very young culture compared to indigenous culture, and it is perhaps not surprising that recent scientific studies are relearning the lessons of the much older indigenous wisdom. Watch [this video](https://www.youtube.com/watch?v=wlzDJQjjQDg) about indigenous cultural burning and wildfire management to answer the following question. \n",
    "\n",
    "How do prescribed burns help with wildfire management?"
   ]
  },
  {
   "cell_type": "markdown",
   "id": "450990c6",
   "metadata": {},
   "source": [
    "_Type your answer here, replacing this text._"
   ]
  },
  {
   "cell_type": "markdown",
   "id": "b655e909",
   "metadata": {},
   "source": [
    "<!-- END QUESTION -->\n",
    "\n",
    "<!-- BEGIN QUESTION -->\n",
    "\n",
    "**Discussion Question 3:** In addition to protecting people and the ecosystems we are part of from dangerous wildfires, perscribed burns are needed for cultural resources that are essential to the Karuk and Yurok way of life. For this reason, Karuk and Yurok people (and many others indigenous peoples) refer to their prescribed fire as *cultural burns* that are central to subsistence and ceremonial practices. The term *cultural burning* distinguishes these fires from the fuel reduction-focused *prescribed burns* of public land agencies whose primary objective is to reduce fuel loads and moderate wildfire intensity. One of the ways cultural burns are central to Karuk and Yurok way of life, is that they provide more hazelnut stems that are needed for *basket weaving*, which we will learn more about in this activity.\n",
    "\n",
    "Why do Karuk and Yurok people prefer to call their prescribed burning practices \"cultural burns\"?"
   ]
  },
  {
   "cell_type": "markdown",
   "id": "df802e49",
   "metadata": {},
   "source": [
    "_Type your answer here, replacing this text._"
   ]
  },
  {
   "cell_type": "markdown",
   "id": "223bf96e",
   "metadata": {
    "tags": []
   },
   "source": [
    "<!-- END QUESTION -->\n",
    "\n",
    "# Hazelnut Stems for Basketweaving\n",
    "Baskets weaved from *hazelnut stems* have many uses in Karuk and Yurok culture, including (but not limited to) baby cradles, clothing, and food preparation. Here is a hopper basket used to pound acorns. The stems on the left side of the picture are unpeeled, whereas and peeled hazelnut basketry stems are shown on the right. This basket is composed of peeled hazelnut stems along with other materials. \n",
    "\n",
    "<img src=\"Baskets.jpg\" alt=\"drawing\" width=\"300\"/>"
   ]
  },
  {
   "cell_type": "markdown",
   "id": "6b2e0907",
   "metadata": {},
   "source": [
    "Skilled basketweavers gather the stems and braid the baskets. Here is a picture of Karuk basketweavers Janet Morehead (left) and Lillian Rentz (right), peeling and evaluating the quality of hazelnut stems they gathered.\n",
    "\n",
    "<img src=\"Basketweaver.jpg\" alt=\"drawing\" width=\"400\"/>"
   ]
  },
  {
   "cell_type": "markdown",
   "id": "eec09df0",
   "metadata": {},
   "source": [
    "These basketweavers generously participated in a scientific study that compared the effect of different burn treatments on how hazelnut shrubs produce basket-worthy stems. Additional basketweavers involved in the study include Elizabeth Azzuz, Laverne Glaze, Chook-Chook Hillman, Lisa Hillman, Robert McConnell,Robert McConnell Jr., Kathy McCovey, Bertha Peters, Maggie Peters, Verna Reece, Margo Robbins, Brittany Souza, and Bill Tripp."
   ]
  },
  {
   "cell_type": "markdown",
   "id": "26f02b77",
   "metadata": {},
   "source": [
    "# Comparing Burn Treatments for Basket-Worthy Stem Production\n",
    "\n",
    "We will look at some data from this study [Effects of understory fire management treatments on California Hazelnut, an ecocultural resource of the Karuk and Yurok Indians in the Pacific Northwest](https://www.sciencedirect.com/science/article/pii/S0378112719306826) published in *Forest Ecology and Managment* in 2019. \n",
    "\n",
    "Skilled basketweavers (and scientists trained by the skilled basketweavers) collected basket-worthy stems from many different hazelnut shrubs that each received a \"treatment\". One of the \"treatments\" was a \"broadcast burn\" which is the type of cultural burn that the Yurok and Karuk people prefer to use as part of their basketweaving traditions. In the \"control,\" the shrub was left untouched. Stems were gathered before treatment and then again after a full growing season since the treatment. "
   ]
  },
  {
   "cell_type": "markdown",
   "id": "ae73c5bb",
   "metadata": {},
   "source": [
    "The Study Location (yellow star in the intersection of Karuk and Yurok Ancentral Lands) is shown on the map below.\n",
    "\n",
    "<img src=\"AncestralTerritories.jpg\" alt=\"drawing\" width=\"700\"/>"
   ]
  },
  {
   "cell_type": "markdown",
   "id": "c4c40f30",
   "metadata": {},
   "source": [
    " Let's have a look at a table of the data..."
   ]
  },
  {
   "cell_type": "code",
   "execution_count": null,
   "id": "6bcfa9a9",
   "metadata": {
    "tags": []
   },
   "outputs": [],
   "source": [
    "baskets_and_burning = Table.read_table('Basketweaving_and_Burning.csv')"
   ]
  },
  {
   "cell_type": "code",
   "execution_count": null,
   "id": "680c9b8a",
   "metadata": {
    "tags": []
   },
   "outputs": [],
   "source": [
    "baskets_and_burning"
   ]
  },
  {
   "cell_type": "markdown",
   "id": "31b9a528",
   "metadata": {},
   "source": [
    "**Question 4:** Use table methods to determine how many shrubs recieved \"Broadcast\" treatment and how many recieved the \"Control\" treatment?\n",
    "(*Hint:* `treatment_counts` should be a two column table with each unique treatment and it's corresponding count.)"
   ]
  },
  {
   "cell_type": "code",
   "execution_count": null,
   "id": "e99fa061",
   "metadata": {
    "tags": []
   },
   "outputs": [],
   "source": [
    "treatment_counts = ...\n",
    "treatment_counts"
   ]
  },
  {
   "cell_type": "code",
   "execution_count": null,
   "id": "204e0016",
   "metadata": {
    "deletable": false,
    "editable": false
   },
   "outputs": [],
   "source": [
    "grader.check(\"q1_4\")"
   ]
  },
  {
   "cell_type": "markdown",
   "id": "225b8720",
   "metadata": {},
   "source": [
    "Let's plot the data to visualize it. We will plot the control treatment data using a slightly larger marker than the broadcast burn treatment data in case those data points end up falling on top of each other. We will also plot the data points with some transparency in case the data points within a treatment class fall on top of themselves."
   ]
  },
  {
   "cell_type": "code",
   "execution_count": null,
   "id": "5d8df8b2",
   "metadata": {
    "tags": []
   },
   "outputs": [],
   "source": [
    "bb_control = baskets_and_burning.where('Treatment', are.equal_to('Control'))\n",
    "bb_burn = baskets_and_burning.where('Treatment', are.equal_to('Broadcast'))\n",
    "plots.plot([0,40],[0,40],'k-',linewidth=1)\n",
    "plots.scatter(bb_control.column('PreBasketStems'),bb_control.column('PostBasketStems'),s=50,alpha=0.7,label='Control')\n",
    "plots.scatter(bb_burn.column('PreBasketStems'),bb_burn.column('PostBasketStems'),s=30,alpha=0.7,label='Burn')\n",
    "plots.xlabel('PreBasketStems')\n",
    "plots.ylabel('PostBasketStems')\n",
    "plots.legend(loc='upper right')"
   ]
  },
  {
   "cell_type": "markdown",
   "id": "c9475255",
   "metadata": {},
   "source": [
    "Use the plot above to answer the following questions."
   ]
  },
  {
   "cell_type": "markdown",
   "id": "3d032031",
   "metadata": {},
   "source": [
    "<!-- BEGIN QUESTION -->\n",
    "\n",
    "**Question 5:** Explain what is plotted on the *x*-axis?"
   ]
  },
  {
   "cell_type": "markdown",
   "id": "171d07f1",
   "metadata": {},
   "source": [
    "_Type your answer here, replacing this text._"
   ]
  },
  {
   "cell_type": "markdown",
   "id": "6aeac5d8",
   "metadata": {},
   "source": [
    "<!-- END QUESTION -->\n",
    "\n",
    "<!-- BEGIN QUESTION -->\n",
    "\n",
    "**Question 6:** Explain what is plotted on the *y*-axis?"
   ]
  },
  {
   "cell_type": "markdown",
   "id": "bb060883",
   "metadata": {},
   "source": [
    "_Type your answer here, replacing this text._"
   ]
  },
  {
   "cell_type": "markdown",
   "id": "f1c5abe9",
   "metadata": {},
   "source": [
    "<!-- END QUESTION -->\n",
    "\n",
    "<!-- BEGIN QUESTION -->\n",
    "\n",
    "**Question 7:** What do the *blue* dots represent?"
   ]
  },
  {
   "cell_type": "markdown",
   "id": "95dec137",
   "metadata": {},
   "source": [
    "_Type your answer here, replacing this text._"
   ]
  },
  {
   "cell_type": "markdown",
   "id": "6c1c8693",
   "metadata": {},
   "source": [
    "<!-- END QUESTION -->\n",
    "\n",
    "<!-- BEGIN QUESTION -->\n",
    "\n",
    "**Question 8:** What do the *red* dots represent?"
   ]
  },
  {
   "cell_type": "markdown",
   "id": "71d13e3c",
   "metadata": {},
   "source": [
    "_Type your answer here, replacing this text._"
   ]
  },
  {
   "cell_type": "markdown",
   "id": "9bc8e240",
   "metadata": {},
   "source": [
    "<!-- END QUESTION -->\n",
    "\n",
    "<!-- BEGIN QUESTION -->\n",
    "\n",
    "**Question 9:** What does the *black line* represent?"
   ]
  },
  {
   "cell_type": "markdown",
   "id": "4873c793",
   "metadata": {},
   "source": [
    "_Type your answer here, replacing this text._"
   ]
  },
  {
   "cell_type": "markdown",
   "id": "a997efb8",
   "metadata": {},
   "source": [
    "<!-- END QUESTION -->\n",
    "\n",
    "<!-- BEGIN QUESTION -->\n",
    "\n",
    "**Question 10:** Take a look at the two burned shrubs that started out with the most basket-worthy stems. (Red dots with the two largest x-values.) How many basket-worthy stems grew on those shrubs after the burn treatment? What do you think happened to those shrubs?"
   ]
  },
  {
   "cell_type": "markdown",
   "id": "b6c34e58",
   "metadata": {},
   "source": [
    "_Type your answer here, replacing this text._"
   ]
  },
  {
   "cell_type": "markdown",
   "id": "42a3e257",
   "metadata": {},
   "source": [
    "<!-- END QUESTION -->\n",
    "\n",
    "<!-- BEGIN QUESTION -->\n",
    "\n",
    "**Question 11:** Are there any blue dots above the black line? How does this compare to the red dots? What does this mean?"
   ]
  },
  {
   "cell_type": "markdown",
   "id": "b96ed12d",
   "metadata": {},
   "source": [
    "_Type your answer here, replacing this text._"
   ]
  },
  {
   "cell_type": "markdown",
   "id": "7cf62ac1",
   "metadata": {},
   "source": [
    "<!-- END QUESTION -->\n",
    "\n",
    "If you are curious about which datapoints fell on top of each other in the above plot, you can count them using the group function. First we look at the control data:"
   ]
  },
  {
   "cell_type": "code",
   "execution_count": null,
   "id": "1a4e7c22",
   "metadata": {
    "tags": []
   },
   "outputs": [],
   "source": [
    "bb_control.group(['PreBasketStems','PostBasketStems'])"
   ]
  },
  {
   "cell_type": "markdown",
   "id": "3a5745ab",
   "metadata": {},
   "source": [
    "And then we can look at the same thing in the broadcast burn data:"
   ]
  },
  {
   "cell_type": "code",
   "execution_count": null,
   "id": "ea7ada8c",
   "metadata": {
    "tags": []
   },
   "outputs": [],
   "source": [
    "bb_burn.group(['PreBasketStems','PostBasketStems'])"
   ]
  },
  {
   "cell_type": "markdown",
   "id": "1fab4c8c",
   "metadata": {},
   "source": [
    "But perhaps it makes more sense to look at how many basket-worthy stems were on the shrubs after treatment compared to how many basket-worthy stems they started out with."
   ]
  },
  {
   "cell_type": "code",
   "execution_count": null,
   "id": "7fdfec7c",
   "metadata": {
    "tags": []
   },
   "outputs": [],
   "source": [
    "baskets_and_burning = baskets_and_burning.with_column('BasketStemDiff',baskets_and_burning.column('PostBasketStems')-baskets_and_burning.column('PreBasketStems'))\n",
    "stemdiff_and_treatment = baskets_and_burning.select('BasketStemDiff', 'Treatment')"
   ]
  },
  {
   "cell_type": "code",
   "execution_count": null,
   "id": "e2417d36",
   "metadata": {
    "tags": []
   },
   "outputs": [],
   "source": [
    "baskets_and_burning"
   ]
  },
  {
   "cell_type": "markdown",
   "id": "53c5e665",
   "metadata": {},
   "source": [
    "Now we have added a new column showing the difference in basket-worthy stems before and after treatment. Now let's use that new column to make a histogram, where we separate out the data by treatment. We have use some transparency because the data from each treatment sometimes overlap."
   ]
  },
  {
   "cell_type": "code",
   "execution_count": null,
   "id": "1840b5ed",
   "metadata": {
    "tags": []
   },
   "outputs": [],
   "source": [
    "stemdiff_and_treatment.hist('BasketStemDiff', group='Treatment')"
   ]
  },
  {
   "cell_type": "markdown",
   "id": "8d69237b",
   "metadata": {},
   "source": [
    "<!-- BEGIN QUESTION -->\n",
    "\n",
    "**Question 12:** What does a negative number on the x-axis mean?"
   ]
  },
  {
   "cell_type": "markdown",
   "id": "456e298f",
   "metadata": {},
   "source": [
    "_Type your answer here, replacing this text._"
   ]
  },
  {
   "cell_type": "markdown",
   "id": "c4557589",
   "metadata": {},
   "source": [
    "<!-- END QUESTION -->\n",
    "\n",
    "<!-- BEGIN QUESTION -->\n",
    "\n",
    "**Question 13:** According to this sample, which treatment seems best for creating more basket-worthy stems?"
   ]
  },
  {
   "cell_type": "markdown",
   "id": "e940aaa7",
   "metadata": {},
   "source": [
    "_Type your answer here, replacing this text._"
   ]
  },
  {
   "cell_type": "markdown",
   "id": "635b130c",
   "metadata": {
    "tags": []
   },
   "source": [
    "<!-- END QUESTION -->\n",
    "\n",
    "We may wonder whether the difference in the distributions we're looking at is just due to chance or if the treatment has an effect of producing more basket-worthy stems.\n",
    "\n",
    "We can try to answer this question through an A/B test. "
   ]
  },
  {
   "cell_type": "markdown",
   "id": "b8954765",
   "metadata": {},
   "source": [
    "<!-- BEGIN QUESTION -->\n",
    "\n",
    "**Question 14:** State the *null hypothesis*, *alternative hypothesis* and *test statistic*."
   ]
  },
  {
   "cell_type": "markdown",
   "id": "cf8000f3",
   "metadata": {},
   "source": [
    "_Type your answer here, replacing this text._"
   ]
  },
  {
   "cell_type": "markdown",
   "id": "e3aa4527",
   "metadata": {},
   "source": [
    "<!-- END QUESTION -->\n",
    "\n",
    "**Question 15:** Fill in the code below to compute the observed test statistic."
   ]
  },
  {
   "cell_type": "code",
   "execution_count": null,
   "id": "66601706",
   "metadata": {
    "tags": []
   },
   "outputs": [],
   "source": [
    "means_table = ...\n",
    "means_table"
   ]
  },
  {
   "cell_type": "code",
   "execution_count": null,
   "id": "d96a7d61",
   "metadata": {
    "tags": []
   },
   "outputs": [],
   "source": [
    "means = ...\n",
    "observed_difference = ...\n",
    "observed_difference"
   ]
  },
  {
   "cell_type": "code",
   "execution_count": null,
   "id": "84c6aa6b",
   "metadata": {
    "deletable": false,
    "editable": false
   },
   "outputs": [],
   "source": [
    "grader.check(\"q1_15\")"
   ]
  },
  {
   "cell_type": "markdown",
   "id": "ab0ace7b",
   "metadata": {},
   "source": [
    "**Question 16:** Create a function to compute tests statistics. *Hint:* Running `difference_of_means(baskets_and_burning, 'Treatment')` should return your test statistic."
   ]
  },
  {
   "cell_type": "code",
   "execution_count": null,
   "id": "a83e2d42",
   "metadata": {
    "tags": []
   },
   "outputs": [],
   "source": [
    "def difference_of_means(table, group_label):\n",
    "    '''Takes: name of table and column label of group-label variable\n",
    "    Returns: Difference of means of the two groups'''\n",
    "    \n",
    "    #table with the two relevant columns\n",
    "    reduced = ... \n",
    "    \n",
    "    # table containing group means\n",
    "    means_table = ...\n",
    "    \n",
    "    # array of group means\n",
    "    means = ...\n",
    "    \n",
    "    return ...\n",
    "\n",
    "    \n",
    "    \n",
    "    \n",
    "    "
   ]
  },
  {
   "cell_type": "code",
   "execution_count": null,
   "id": "12237718",
   "metadata": {
    "deletable": false,
    "editable": false
   },
   "outputs": [],
   "source": [
    "grader.check(\"q1_16\")"
   ]
  },
  {
   "cell_type": "markdown",
   "id": "bfdbd859",
   "metadata": {},
   "source": [
    "**Question 17:** Fill in the code below to perform your A/B test. "
   ]
  },
  {
   "cell_type": "code",
   "execution_count": null,
   "id": "05196128",
   "metadata": {
    "tags": []
   },
   "outputs": [],
   "source": [
    "def one_simulated_difference(table, group_label):\n",
    "    '''Takes: name of table and column label of group-label variable, \n",
    "    Returns: Difference of means of the two groups after shuffling labels'''\n",
    "    \n",
    "    # array of shuffled labels\n",
    "    shuffled_labels = ...\n",
    "    \n",
    "    # table of numerical variable and shuffled labels\n",
    "    shuffled_table = ...\n",
    "    \n",
    "    return ...  \n",
    "    \n",
    "differences = make_array()\n",
    "\n",
    "for i in np.arange(2500):\n",
    "    new_difference = ...\n",
    "    differences = ...    \n",
    "    \n",
    "\n",
    "    \n",
    "    \n",
    "\n"
   ]
  },
  {
   "cell_type": "code",
   "execution_count": null,
   "id": "9be72185",
   "metadata": {
    "deletable": false,
    "editable": false
   },
   "outputs": [],
   "source": [
    "grader.check(\"q1_17\")"
   ]
  },
  {
   "cell_type": "markdown",
   "id": "229788b3",
   "metadata": {},
   "source": [
    "Run the following cell to visualize your results."
   ]
  },
  {
   "cell_type": "code",
   "execution_count": null,
   "id": "10edcc11",
   "metadata": {
    "tags": []
   },
   "outputs": [],
   "source": [
    "Table().with_column('Difference Between Group Means', differences).hist()\n",
    "print('Observed Difference:', observed_difference)\n",
    "plots.title('Prediction Under the Null Hypothesis');\n",
    "plots.scatter(observed_difference, 0, color='red', s=40, zorder=3)"
   ]
  },
  {
   "cell_type": "markdown",
   "id": "d3389752",
   "metadata": {},
   "source": [
    "<!-- BEGIN QUESTION -->\n",
    "\n",
    "**Question 18:** In your own words, describe the effect of cultural burning on basket-worthy stem growth, as supported by this test."
   ]
  },
  {
   "cell_type": "markdown",
   "id": "2f3fce8d",
   "metadata": {},
   "source": [
    "_Type your answer here, replacing this text._"
   ]
  },
  {
   "cell_type": "markdown",
   "id": "25c9add1",
   "metadata": {},
   "source": [
    "<!-- END QUESTION -->\n",
    "\n",
    "# How things are now...\n",
    "\n",
    "Despite the now widespread acknowledgement of the wisdom of cultural burning, these practices are restricted due USDA Forest Service funding and staff reductions, threatened and endangered wildlife being protected in certain seasons, burn restrictions during major wildfire events, and air quality regulations that constrain available burn days. \n",
    "\n",
    "Basketweavers also say the departure of supportive USDA Forest Service managers created major set-backs, because they had to re-establish lines of communication with new staff and inform them about their basketry materials and fire treatment\n",
    "needs. So even with the federal governments increased fuel reduction treatments throughout this region basketweavers and Tribal members often were not informed about the schedules or locations of understory mechanical treatments and broadcast burns, and would miss opportunities to gather hazelnut stems. \n",
    "\n",
    "Efforts within the USDA Forest Service known as the ‘Shared Stewardship’ initiative seek to address several of these constraints.\n",
    "\n",
    "In the meantime basketweavers have been coming up with their own creative solutions to stimulate basket-worthy stem growth on hazelnut shrubs. The figure below shows different types of treatments now being used: (A) manual cutting of the shrub; (B) small pile burn on an indivual shrub; (C) propone torching of a shrub (D) the traditional broadcast burn.\n",
    "<img src=\"Treatments.jpg\" alt=\"drawing\" width=\"400\"/>\n",
    "\n",
    "All of these treatments increase basket-worthy stem growth, where the ones that use fire are the most effective. You can read more about the details in [the paper](https://www.sciencedirect.com/science/article/pii/S0378112719306826) if you like.\n"
   ]
  },
  {
   "cell_type": "markdown",
   "id": "04f184b8",
   "metadata": {},
   "source": [
    "At home, watch [this video](https://www.youtube.com/watch?v=QQfrQyb4yw4) about the *Land Back* movement. If you want to read more, here is a [news article](https://www.npr.org/2020/08/24/899422710/to-manage-wildfire-california-looks-to-what-tribes-have-known-all-along) that also covered this topic. "
   ]
  },
  {
   "cell_type": "markdown",
   "id": "71217c55",
   "metadata": {},
   "source": [
    "## 2. (optional) The Great British Bake Off\n",
    "\n",
    "If you want more practice with A/B testing, feel free to do this next example related to the famous TV show The Great British Bake Off.\n",
    "\n",
    ">\"The Great British Bake Off (often abbreviated to Bake Off or GBBO) is a British television baking competition, produced by Love Productions, in which a group of amateur bakers compete against each other in a series of rounds, attempting to impress a group of judges with their baking skills\" [Wikipedia](https://en.wikipedia.org/wiki/The_Great_British_Bake_Off)\n",
    "\n",
    "For every week of the competition, the judges assign one contestant the title \"Star Baker\". Ultimately, one winner is crowned every season. Using this information, we would like to investigate how winning Star Baker awards affects the odds of winning a season of the show."
   ]
  },
  {
   "cell_type": "markdown",
   "id": "1d20bbe1",
   "metadata": {},
   "source": [
    "<!-- BEGIN QUESTION -->\n",
    "\n",
    "**Question 2.1.** We want to know whether winning more Star Baker awards *causes* a change in likelihood of winning the season.  Why is it not sufficient to compare star baker rates for winners and losers?\n"
   ]
  },
  {
   "cell_type": "markdown",
   "id": "027f8de9",
   "metadata": {},
   "source": [
    "_Type your answer here, replacing this text._"
   ]
  },
  {
   "cell_type": "markdown",
   "id": "7b58863c",
   "metadata": {},
   "source": [
    "<!-- END QUESTION -->\n",
    "\n",
    "### Running an Experiment\n",
    "\n",
    "We are going to run the following hypothesis test to determine the association between winning and number of Star Baker awards. The population we are examining is every contestant from seasons 2 through 11 of GBBO. We are going to use the following null and alternative hypotheses:\n",
    "\n",
    "**Null hypothesis:** The distribution of Star Baker awards between contestants who won their season and contestants who did not win their season is the same.\n",
    "\n",
    "**Alternative hypothesis:** Contestants who win their season of the show will win more Star Baker awards on average.\n",
    "\n",
    "Our alternative hypothesis is related to our suspicion that contestants who win more Star Baker awards are more skilled, so they are more likely to win the season."
   ]
  },
  {
   "cell_type": "markdown",
   "id": "3d3ba7f4",
   "metadata": {},
   "source": [
    "<!-- BEGIN QUESTION -->\n",
    "\n",
    "**Question 2.2.** Should we use an A/B test to test these hypotheses? If yes, what is our \"A\" group and what is our \"B\" group?\n"
   ]
  },
  {
   "cell_type": "markdown",
   "id": "a12a64de",
   "metadata": {},
   "source": [
    "_Type your answer here, replacing this text._"
   ]
  },
  {
   "cell_type": "markdown",
   "id": "36d53ba5",
   "metadata": {},
   "source": [
    "<!-- END QUESTION -->\n",
    "\n",
    "Check your answers with your neighbors before you move on to the next section."
   ]
  },
  {
   "cell_type": "markdown",
   "id": "e32264e1",
   "metadata": {},
   "source": [
    "The `bakers` table below describes the number of star baker awards each contest won and whether or not they won their season (`1` if they won, `0` if they did not win). The data was manually aggregated from Wikipedia for seasons 2-11 of the show. We randomized the order of rows as to not spoil the outcome of the show."
   ]
  },
  {
   "cell_type": "code",
   "execution_count": null,
   "id": "01153833",
   "metadata": {},
   "outputs": [],
   "source": [
    "bakers = Table.read_table(\"star_bakers.csv\")\n",
    "bakers.show(3)"
   ]
  },
  {
   "cell_type": "markdown",
   "id": "870fa4c7",
   "metadata": {},
   "source": [
    "<!-- BEGIN QUESTION -->\n",
    "\n",
    "**Question 2.3.** Create a new table called `means` that contains the mean number of star baker awards for bakers who did not win (`won==0`) and bakers that did win (`won==1`). The table should have the column names `won` and `star baker awards mean`."
   ]
  },
  {
   "cell_type": "code",
   "execution_count": null,
   "id": "8dccc548",
   "metadata": {
    "tags": []
   },
   "outputs": [],
   "source": [
    "means = ...\n",
    "means"
   ]
  },
  {
   "cell_type": "code",
   "execution_count": null,
   "id": "f24ea09b",
   "metadata": {
    "deletable": false,
    "editable": false
   },
   "outputs": [],
   "source": [
    "grader.check(\"q2_3\")"
   ]
  },
  {
   "cell_type": "markdown",
   "id": "3400cdb1",
   "metadata": {},
   "source": [
    "<!-- END QUESTION -->\n",
    "\n",
    "<!-- BEGIN QUESTION -->\n",
    "\n",
    "**Question 2.4.** Visualize the distribution of Star Baker awards for winners and non-winners. You should use the bins we provided.\n",
    "\n",
    "Hint: You will want to use the group argument of `tbl.hist`. In order to produce several overlayed histograms based on unique values in a given column, we can do something like `tbl.hist(..., group=<col_name>, bins=...)`!\n"
   ]
  },
  {
   "cell_type": "code",
   "execution_count": null,
   "id": "4fc2a435",
   "metadata": {
    "tags": []
   },
   "outputs": [],
   "source": [
    "useful_bins = np.arange(0, 7)\n",
    "..."
   ]
  },
  {
   "cell_type": "markdown",
   "id": "a37e2a79",
   "metadata": {},
   "source": [
    "<!-- END QUESTION -->\n",
    "\n",
    "<!-- BEGIN QUESTION -->\n",
    "\n",
    "**Question 2.5.** We want to figure out if there is a difference between the distribution of Star Baker awards between winners and non winners. \n",
    "\n",
    "What should the test statistic be? Which values of this test statistic support the null, and which values support the alternative?\n",
    "\n",
    "If you are in lab, confirm your answer with a neighbor before moving on.\n",
    "\n",
    "Hint: You should think about what measures we use to describe a distribution. \n"
   ]
  },
  {
   "cell_type": "markdown",
   "id": "260683fe",
   "metadata": {},
   "source": [
    "_Type your answer here, replacing this text._"
   ]
  },
  {
   "cell_type": "markdown",
   "id": "a9fda944",
   "metadata": {},
   "source": [
    "<!-- END QUESTION -->\n",
    "\n",
    "<!-- BEGIN QUESTION -->\n",
    "\n",
    "**Question 2.6.** Set `observed_difference` to the observed test statistic using the `means` table. \n"
   ]
  },
  {
   "cell_type": "code",
   "execution_count": null,
   "id": "b770cf11",
   "metadata": {
    "tags": []
   },
   "outputs": [],
   "source": [
    "observed_difference = ...\n",
    "observed_difference"
   ]
  },
  {
   "cell_type": "code",
   "execution_count": null,
   "id": "d42162cf",
   "metadata": {
    "deletable": false,
    "editable": false
   },
   "outputs": [],
   "source": [
    "grader.check(\"q2_6\")"
   ]
  },
  {
   "cell_type": "markdown",
   "id": "b67fbade",
   "metadata": {},
   "source": [
    "<!-- END QUESTION -->\n",
    "\n",
    "<!-- BEGIN QUESTION -->\n",
    "\n",
    "**Question 2.7.** Given a table like `bakers`, a label column `label_col`, and a values column `val_col`, write a function that calculates the appropriate test statistic.\n",
    "\n",
    "*Hint:* Make sure that you are taking the directionality of our alternative hypothesis into account.\n"
   ]
  },
  {
   "cell_type": "code",
   "execution_count": null,
   "id": "0e6f03c2",
   "metadata": {
    "scrolled": true,
    "tags": []
   },
   "outputs": [],
   "source": [
    "def find_test_stat(tbl, label_col, val_col):\n",
    "    ...\n",
    "\n",
    "find_test_stat(bakers, \"won\", \"star baker awards\")"
   ]
  },
  {
   "cell_type": "code",
   "execution_count": null,
   "id": "d135bcea",
   "metadata": {
    "deletable": false,
    "editable": false
   },
   "outputs": [],
   "source": [
    "grader.check(\"q2_7\")"
   ]
  },
  {
   "cell_type": "markdown",
   "id": "f46e8af6",
   "metadata": {},
   "source": [
    "<!-- END QUESTION -->\n",
    "\n",
    "When we run a simulation for A/B testing, we resample by **shuffling the labels** of the original sample. If the null hypothesis is true and the star baker award distributions are the same, we expect that the difference in mean star baker awards will be not change when `\"won\"` labels are changed."
   ]
  },
  {
   "cell_type": "markdown",
   "id": "4c68ea39",
   "metadata": {},
   "source": [
    "<!-- BEGIN QUESTION -->\n",
    "\n",
    "**Question 2.8.** Write a function `simulate_and_test_statistic` to compute one trial of our A/B test. Your function should run a simulation and return a test statistic.\n"
   ]
  },
  {
   "cell_type": "code",
   "execution_count": null,
   "id": "74698572",
   "metadata": {
    "tags": []
   },
   "outputs": [],
   "source": [
    "def simulate_and_test_statistic(tbl, labels_col, values_col):\n",
    "    ...\n",
    "\n",
    "simulate_and_test_statistic(bakers, \"won\", \"star baker awards\")"
   ]
  },
  {
   "cell_type": "code",
   "execution_count": null,
   "id": "42abb922",
   "metadata": {
    "deletable": false,
    "editable": false
   },
   "outputs": [],
   "source": [
    "grader.check(\"q2_8\")"
   ]
  },
  {
   "cell_type": "markdown",
   "id": "d84b6fa2",
   "metadata": {},
   "source": [
    "<!-- END QUESTION -->\n",
    "\n",
    "<!-- BEGIN QUESTION -->\n",
    "\n",
    "**Question 2.9.** Simulate 5000 trials of our A/B test and store the test statistics in an array called `differences`.\n"
   ]
  },
  {
   "cell_type": "code",
   "execution_count": null,
   "id": "3befd600",
   "metadata": {
    "tags": []
   },
   "outputs": [],
   "source": [
    "# This cell might take a couple seconds to run\n",
    "differences = make_array()\n",
    "\n",
    "...\n",
    "                                                 \n",
    "differences"
   ]
  },
  {
   "cell_type": "code",
   "execution_count": null,
   "id": "6bc44f82",
   "metadata": {
    "deletable": false,
    "editable": false
   },
   "outputs": [],
   "source": [
    "grader.check(\"q2_9\")"
   ]
  },
  {
   "cell_type": "markdown",
   "id": "f4b8d9f3",
   "metadata": {},
   "source": [
    "<!-- END QUESTION -->\n",
    "\n",
    "Run the cell below to view a histogram of your simulated test statistics plotted with your observed test statistic."
   ]
  },
  {
   "cell_type": "code",
   "execution_count": null,
   "id": "3e1f86df",
   "metadata": {},
   "outputs": [],
   "source": [
    "Table().with_column('Difference Between Group Means', differences).hist(bins=20)\n",
    "plots.scatter(observed_difference, 0, color='red', s=30, zorder=2)\n",
    "plots.ylim(-0.1, 1.35);"
   ]
  },
  {
   "cell_type": "markdown",
   "id": "07483ecb",
   "metadata": {},
   "source": [
    "<!-- BEGIN QUESTION -->\n",
    "\n",
    "**Question 2.10.** Find the p-value for your test and assign it to `empirical_p`.\n"
   ]
  },
  {
   "cell_type": "code",
   "execution_count": null,
   "id": "b44d496c",
   "metadata": {
    "tags": []
   },
   "outputs": [],
   "source": [
    "empirical_p = ...\n",
    "empirical_p"
   ]
  },
  {
   "cell_type": "code",
   "execution_count": null,
   "id": "b6090d3d",
   "metadata": {
    "deletable": false,
    "editable": false
   },
   "outputs": [],
   "source": [
    "grader.check(\"q2_10\")"
   ]
  },
  {
   "cell_type": "markdown",
   "id": "fa6ada89",
   "metadata": {},
   "source": [
    "<!-- END QUESTION -->\n",
    "\n",
    "<!-- BEGIN QUESTION -->\n",
    "\n",
    "**Question 2.11.** Using a 5% P-value cutoff, draw a conclusion about the null and alternative hypotheses. Describe your findings using simple, non-technical language. What does your analysis tell you about the association between star baker awards and winning? What can you claim about causation from your statistical analysis? Call your GSI or AI over and confirm your answer. \n"
   ]
  },
  {
   "cell_type": "markdown",
   "id": "1788cb8d",
   "metadata": {},
   "source": [
    "_Type your answer here, replacing this text._"
   ]
  },
  {
   "cell_type": "code",
   "execution_count": null,
   "id": "6b01f2c7",
   "metadata": {
    "deletable": false,
    "editable": false
   },
   "outputs": [],
   "source": [
    "grader.check(\"q2_10\")"
   ]
  },
  {
   "cell_type": "markdown",
   "id": "d49bc01a",
   "metadata": {},
   "source": [
    "<!-- END QUESTION -->\n",
    "\n",
    "## 3. Submission\n",
    "\n",
    "Gus wanted to say congrats on finishing Lab 7!! \n",
    "\n",
    "<img src=\"gusgus.jpg\" alt=\"drawing\" width=\"600\"/>\n",
    "\n",
    "**Important submission steps:** \n",
    "1. Run the tests and verify that they all pass.\n",
    "2. Choose **Save Notebook** from the **File** menu, then **run the final cell**. \n",
    "3. Click the link to download the zip file.\n",
    "4. Then submit the zip file to the corresponding assignment according to Canvas. \n",
    "\n",
    "**It is your responsibility to make sure your work is saved before running the last cell.**"
   ]
  },
  {
   "cell_type": "code",
   "execution_count": null,
   "id": "ade8f575",
   "metadata": {},
   "outputs": [],
   "source": []
  },
  {
   "cell_type": "markdown",
   "id": "e3e5a87c",
   "metadata": {
    "deletable": false,
    "editable": false
   },
   "source": [
    "## Submission\n",
    "\n",
    "Make sure you have run all cells in your notebook in order before running the cell below, so that all images/graphs appear in the output. The cell below will generate a zip file for you to submit. **Please save before exporting!**"
   ]
  },
  {
   "cell_type": "code",
   "execution_count": null,
   "id": "a446714e",
   "metadata": {
    "deletable": false,
    "editable": false
   },
   "outputs": [],
   "source": [
    "# Save your notebook first, then run this cell to export your submission.\n",
    "grader.export(run_tests=True)"
   ]
  },
  {
   "cell_type": "markdown",
   "id": "ffe050ff",
   "metadata": {},
   "source": [
    " "
   ]
  }
 ],
 "metadata": {
  "kernelspec": {
   "display_name": "Python 3 (ipykernel)",
   "language": "python",
   "name": "python3"
  },
  "language_info": {
   "codemirror_mode": {
    "name": "ipython",
    "version": 3
   },
   "file_extension": ".py",
   "mimetype": "text/x-python",
   "name": "python",
   "nbconvert_exporter": "python",
   "pygments_lexer": "ipython3",
   "version": "3.11.4"
  },
  "otter": {
   "OK_FORMAT": true,
   "tests": {
    "q1_15": {
     "name": "q1_15",
     "points": null,
     "suites": [
      {
       "cases": [
        {
         "code": ">>> abs(observed_difference)\n13.839537869062902",
         "hidden": false,
         "locked": false
        }
       ],
       "scored": true,
       "setup": "",
       "teardown": "",
       "type": "doctest"
      }
     ]
    },
    "q1_16": {
     "name": "q1_16",
     "points": null,
     "suites": [
      {
       "cases": [
        {
         "code": ">>> abs(difference_of_means(baskets_and_burning, 'Treatment'))\n13.839537869062902",
         "hidden": false,
         "locked": false
        }
       ],
       "scored": true,
       "setup": "",
       "teardown": "",
       "type": "doctest"
      }
     ]
    },
    "q1_17": {
     "name": "q1_17",
     "points": null,
     "suites": [
      {
       "cases": [
        {
         "code": ">>> len(differences) == 2500\nTrue",
         "hidden": false,
         "locked": false
        }
       ],
       "scored": true,
       "setup": "",
       "teardown": "",
       "type": "doctest"
      }
     ]
    },
    "q1_4": {
     "name": "q1_4",
     "points": null,
     "suites": [
      {
       "cases": [
        {
         "code": ">>> (treatment_counts.column('count') == make_array(41,19)).all() or (treatment_counts.column('count') == make_array(19,41)).all()\nTrue",
         "hidden": false,
         "locked": false
        }
       ],
       "scored": true,
       "setup": "",
       "teardown": "",
       "type": "doctest"
      }
     ]
    },
    "q2_10": {
     "name": "q2_10",
     "points": null,
     "suites": [
      {
       "cases": [
        {
         "code": ">>> 0 <= empirical_p < 0.05\nTrue",
         "hidden": false,
         "locked": false
        }
       ],
       "scored": true,
       "setup": "",
       "teardown": "",
       "type": "doctest"
      }
     ]
    },
    "q2_3": {
     "name": "q2_3",
     "points": null,
     "suites": [
      {
       "cases": [
        {
         "code": ">>> means.num_rows\n2",
         "hidden": false,
         "locked": false
        },
        {
         "code": ">>> np.round(min(means.column(\"star baker awards mean\")), 2) == 0.65\nTrue",
         "hidden": false,
         "locked": false
        },
        {
         "code": ">>> np.round(max(means.column(\"star baker awards mean\")), 2) == 1.5\nTrue",
         "hidden": false,
         "locked": false
        }
       ],
       "scored": true,
       "setup": "",
       "teardown": "",
       "type": "doctest"
      }
     ]
    },
    "q2_6": {
     "name": "q2_6",
     "points": null,
     "suites": [
      {
       "cases": [
        {
         "code": ">>> isinstance(observed_difference, float)\nTrue",
         "hidden": false,
         "locked": false
        },
        {
         "code": ">>> float(round(observed_difference, 3))\n0.848",
         "hidden": false,
         "locked": false
        }
       ],
       "scored": true,
       "setup": "",
       "teardown": "",
       "type": "doctest"
      }
     ]
    },
    "q2_7": {
     "name": "q2_7",
     "points": null,
     "suites": [
      {
       "cases": [
        {
         "code": ">>> np.isclose(round(find_test_stat(bakers, \"won\", \"star baker awards\"), 3) - 0.848, 0)\nTrue",
         "hidden": false,
         "locked": false
        }
       ],
       "scored": true,
       "setup": "",
       "teardown": "",
       "type": "doctest"
      }
     ]
    },
    "q2_8": {
     "name": "q2_8",
     "points": null,
     "suites": [
      {
       "cases": [
        {
         "code": ">>> test_stat = round(simulate_and_test_statistic(bakers, \"won\", \"star baker awards\"), 3)\n>>> -2 < test_stat < 2\nTrue",
         "hidden": false,
         "locked": false
        },
        {
         "code": ">>> np.random.seed(1)\n>>> test_stat2 = simulate_and_test_statistic(bakers, \"won\", \"star baker awards\")\n>>> np.round(test_stat2, 3) == -0.023 or np.round(test_stat2, 3) == -0.132\nTrue",
         "hidden": false,
         "locked": false
        }
       ],
       "scored": true,
       "setup": "",
       "teardown": "",
       "type": "doctest"
      }
     ]
    },
    "q2_9": {
     "name": "q2_9",
     "points": null,
     "suites": [
      {
       "cases": [
        {
         "code": ">>> len(differences)\n5000",
         "hidden": false,
         "locked": false
        },
        {
         "code": ">>> abs(np.average(differences)) < 0.05 # On average, your test statistic should be close to 0\nTrue",
         "hidden": false,
         "locked": false
        },
        {
         "code": ">>> all(differences == differences.item(0)) == False # Make sure all of the test statistics are different\nTrue",
         "hidden": false,
         "locked": false
        }
       ],
       "scored": true,
       "setup": "",
       "teardown": "",
       "type": "doctest"
      }
     ]
    }
   }
  }
 },
 "nbformat": 4,
 "nbformat_minor": 5
}
