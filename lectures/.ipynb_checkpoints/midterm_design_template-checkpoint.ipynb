{
 "cells": [
  {
   "cell_type": "code",
   "execution_count": null,
   "id": "0e30e475-e14e-41bb-9013-7458d44d7f68",
   "metadata": {},
   "outputs": [],
   "source": [
    "from datascience import *\n",
    "import numpy as np\n",
    "\n",
    "%matplotlib inline\n",
    "import matplotlib.pyplot as plots\n",
    "plots.style.use('fivethirtyeight')"
   ]
  },
  {
   "cell_type": "markdown",
   "id": "c810f6d1-1cbf-4772-9a12-bb74f65a7754",
   "metadata": {},
   "source": [
    "# Midterm Design Template\n",
    "\n",
    "Please use the following template to create your midterm design problem. Feel free to get creative with this. Create multiple choice problems, short response, coding problems, etc. "
   ]
  },
  {
   "cell_type": "markdown",
   "id": "f1469568-8972-4eb0-8050-0a75b183f55b",
   "metadata": {},
   "source": [
    "**Problem**  \n",
    "*Type your problem here.*"
   ]
  },
  {
   "cell_type": "code",
   "execution_count": null,
   "id": "2885c09b-a1f5-41ca-959f-c0a5aff029a3",
   "metadata": {},
   "outputs": [],
   "source": [
    "# Use any code here to set up the problem. For example, \n",
    "# maybe you need to read in a dataset, create a table, create array(s), etc.\n"
   ]
  },
  {
   "cell_type": "markdown",
   "id": "57f50e23-d135-4081-9a14-6a58682c2539",
   "metadata": {},
   "source": [
    "**Solution**  \n",
    "*Type your solution here if it requires typing.*"
   ]
  },
  {
   "cell_type": "code",
   "execution_count": null,
   "id": "4b28dc77-d37e-4148-9116-68494210e5b8",
   "metadata": {},
   "outputs": [],
   "source": [
    "# Code your solution here if it requires coding"
   ]
  }
 ],
 "metadata": {
  "kernelspec": {
   "display_name": "Python 3 (ipykernel)",
   "language": "python",
   "name": "python3"
  },
  "language_info": {
   "codemirror_mode": {
    "name": "ipython",
    "version": 3
   },
   "file_extension": ".py",
   "mimetype": "text/x-python",
   "name": "python",
   "nbconvert_exporter": "python",
   "pygments_lexer": "ipython3",
   "version": "3.11.4"
  }
 },
 "nbformat": 4,
 "nbformat_minor": 5
}
