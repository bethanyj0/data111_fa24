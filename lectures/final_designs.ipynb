{
 "cells": [
  {
   "cell_type": "code",
   "execution_count": 3,
   "id": "71a4dd22-b894-4b13-bfe0-6926db4fcb8c",
   "metadata": {
    "tags": []
   },
   "outputs": [],
   "source": [
    "from datascience import *\n",
    "import numpy as np\n",
    "\n",
    "%matplotlib inline\n",
    "import matplotlib.pyplot as plots\n",
    "plots.style.use('fivethirtyeight')"
   ]
  },
  {
   "cell_type": "markdown",
   "id": "1e300044-d462-4aaa-8aeb-13d045b975b7",
   "metadata": {},
   "source": [
    "# Practice Final Designs"
   ]
  },
  {
   "cell_type": "markdown",
   "id": "e72407e0-dda1-4d1a-b1b3-6ea6b4a8bfc5",
   "metadata": {},
   "source": [
    "## Questions"
   ]
  },
  {
   "cell_type": "markdown",
   "id": "3fe9b501-f960-45f7-9546-138f2470adcb",
   "metadata": {
    "tags": []
   },
   "source": [
    "### Question 1\n",
    "\n",
    "29% of all jellyfish are mineral collectors, and 71% collect nothing but memories. In any given group of collectors, 47% are purists. If you get stung by a random purist jellyfish, what is the probability that it collects just memories?"
   ]
  },
  {
   "cell_type": "markdown",
   "id": "1b0e6c65-3a32-481c-a556-0845a48a7024",
   "metadata": {},
   "source": [
    "### Question 2\n",
    "\n",
    "While Santa was delivering presents, he made a mistake with his gift order and can’t seem to pick the right ones. It’s up to you to figure out how to correct his mix-up using probability! After questioning Santa, he revealed that there are a total of 24 gifts in his sleigh: 9 wooden trains, 10 figurines, and 5 candy canes. Using this information, answer the following probability questions:\n",
    "\n",
    "(A) What is the probability that Santa pulls a wooden train and a candy cane with replacement?\n",
    "\n",
    "(B) What is the probability that all 5 candy canes are picked without replacement?\n",
    "\n",
    "(C) What is the probability that Santa pulls a candy cane first, then a wooden train, and then a figurine (all without replacement)?\n",
    "\n",
    "(D) What is the probability that Santa pulls neither a candy cane nor a wooden train?"
   ]
  },
  {
   "cell_type": "markdown",
   "id": "065d0606-e247-487e-a0c6-c1636868744f",
   "metadata": {},
   "source": [
    "### Question 3\n",
    "*I'm an ice core researcher, and I need help processesing my data to make sure it is reliable! I was able to get it into a csv format, but I don't know how to make it more usable.* The data is in the table called `domeC`.\n",
    "\n",
    "<img src=\"dataset.png\" alt=\"drawing\" width=\"400\"/>"
   ]
  },
  {
   "cell_type": "markdown",
   "id": "c8f12e2b-01ac-4cce-9fdb-fed142bd2611",
   "metadata": {},
   "source": [
    "(A) First, rename the columns so that it is easier to use when evaluating the code. Use the column labels 'Depth (m)', 'Age (ka)', 'delta D (0/00)', 'delta T (deg C)', and 'Sample ID'. Assign this table to the name `domeC_nice`.\n",
    "\n",
    "(B)\n",
    "\n",
    "(i) Write the code to generate the two line plots below. One with 'Age (ka)' on the x-axis and 'delta D (0/00)' on the y, and one with 'Age (ka)' on the x axis and 'delta T (deg C)' on the y axis, both using `domeC_nice`\n",
    "\n",
    "<img src=\"time_series1.png\" alt=\"drawing\" width=\"400\"/>\n",
    "<img src=\"time_series2.png\" alt=\"drawing\" width=\"400\"/>"
   ]
  },
  {
   "cell_type": "markdown",
   "id": "8de69a23-9ccc-4d8e-8505-b5ff98e5936d",
   "metadata": {
    "tags": []
   },
   "source": [
    "(ii) What trend do you notice?\n",
    "\n",
    "(C) Generate a scatter plot with 'Delta T' on the x-axis and 'Delta D' on the y-axis, what trend do you notice? Will the correlation coefficient be closer to 0, 0.5, or 1?\n",
    "\n",
    "<img src=\"correlation.png\" alt=\"drawing\" width=\"400\"/>\n",
    "\n",
    "(D) Calculate the correlation coefficient for the plot. Assign it to 'r'. Feel free to use functions\n",
    "\n",
    "*Hint: remember that you need to get rid of the rows that have 'nan' in them ('nan' is not a string, and cannot be taken away like one!)\n",
    "\n",
    "(E) Calculate the slope (assign to 'slope') and the intercept (assign to 'inter'), then use them to calculate the delta D value for a delta T value of 3.0 deg C. Assign to 'Todays_D'.\n",
    "\n",
    "**Climatologists use the delta Deuterium (delta-D or δD) value of ice cores and ocean water as a temperature proxy for past climates. They do this by comparing the past isotope ratios to a standard isotope ratio defined in the 1960s, called VSMOW (Vienna Standard Mean Ocean Water), and using a 'parts per thousand' (0/00) ratio for ease of understanding.**\n",
    "\n",
    "**Above, you plotted the delta Deuterium and the change in temperature in Antarctica, retrieved by the European Project for Ice Coring in Antarctica (EPICA) from ice cores at Dome C, in Antarctica. Then, you calculated the correlation coefficient (r) for their data. Last, you calculated the possible delta Deuterium value that snow deposited today may have, dependent on the warming Antartica is experiencing now (about 3 degrees Celsius).**\n",
    "\n",
    "**Please see the links below to learn more about EPICA, Dome C, and their projects.**\n",
    "\n",
    "Citation: Jouzel, Jean; Masson-Delmotte, Valerie (2007): EPICA Dome C Ice Core 800KYr deuterium data and temperature estimates [dataset]. PANGAEA, https://doi.org/10.1594/PANGAEA.683655\n",
    "\n",
    "European Project for Ice Coring in Antarctica (EPICA) (URI: https://en.wikipedia.org/wiki/European_Project_for_Ice_Coring_in_Antarctica)"
   ]
  },
  {
   "cell_type": "markdown",
   "id": "9b4e7ce3-079e-4562-aafb-dde0ad274a85",
   "metadata": {},
   "source": [
    "### Question 4\n",
    "Create a function called standard_units that converts an array into standard units."
   ]
  },
  {
   "cell_type": "code",
   "execution_count": 4,
   "id": "633a8e7f-1a75-4f9d-bb24-ef26c6b8b844",
   "metadata": {
    "tags": []
   },
   "outputs": [],
   "source": [
    "def standard_units(arr):\n",
    "    return..."
   ]
  },
  {
   "cell_type": "markdown",
   "id": "3edd4a01-2b7e-45ec-a469-8fe446d3f6ab",
   "metadata": {},
   "source": [
    "### Question 5\n",
    "Minti is hoping to get to work on time today, but is stuck waiting for her bus that is running late. She's not sure if she will make the connecting train she needs to get to the office. If the train arrives on time, she will need to take the next train in an hour which will make her late. If the train is also running late she will be able to get to work on time since she won't have to take the later train. \n",
    "\n",
    "Give the following information, fill in the code below to determine the probabilty that Minti will be late to work today. The bus is late about 60% of the time. The train is late about 30% of the time."
   ]
  },
  {
   "cell_type": "code",
   "execution_count": 5,
   "id": "643c3488-7385-4685-866c-c04b6230ae78",
   "metadata": {
    "tags": []
   },
   "outputs": [
    {
     "data": {
      "text/html": [
       "<table border=\"1\" class=\"dataframe\">\n",
       "    <thead>\n",
       "        <tr>\n",
       "            <th> </th> <th>Train is on time</th> <th>Train is late</th>\n",
       "        </tr>\n",
       "    </thead>\n",
       "    <tbody>\n",
       "        <tr>\n",
       "            <td>bus is on time</td> <td>?               </td> <td>?            </td>\n",
       "        </tr>\n",
       "        <tr>\n",
       "            <td>bus is late   </td> <td>?               </td> <td>?            </td>\n",
       "        </tr>\n",
       "    </tbody>\n",
       "</table>"
      ],
      "text/plain": [
       "<IPython.core.display.HTML object>"
      ]
     },
     "metadata": {},
     "output_type": "display_data"
    },
    {
     "name": "stdout",
     "output_type": "stream",
     "text": [
      "The probabilty that Minti will be late is : ______\n"
     ]
    }
   ],
   "source": [
    "#probabilty_set1 = \"?\"\n",
    "#probabilty_set2 = \"?\" \n",
    "\n",
    "Transit = Table()\n",
    "\n",
    "Transit = Transit.with_columns(\" \", make_array(\"bus is on time\", \"bus is late\"), \"Train is on time\", \"?\",\"Train is late\", \"?\") \n",
    "\n",
    "Transit.show(2)\n",
    "\n",
    "bus_probs = make_array(..., ...)\n",
    "train_probs = make_array(..., ...)\n",
    "\n",
    "P_bus_on_time_train_on_time = ... \n",
    "P_bus_late_train_on_time = ... \n",
    "probabilty_set1 = make_array(P_bus_on_time_train_on_time,P_bus_late_train_on_time)\n",
    "\n",
    "P_bus_on_time_train_late = ...\n",
    "P_bus_late_train_late = ...\n",
    "probabilty_set2 = make_array(P_bus_on_time_train_late,P_bus_late_train_late)\n",
    "\n",
    "Transit = Transit.with_columns(\"Train is on time\", probabilty_set1, \"Train is late\", probabilty_set2)\n",
    "\n",
    "will_minti_be_late_today = \"______\"\n",
    "\n",
    "\n",
    "print(\"The probabilty that Minti will be late is :\", will_minti_be_late_today)"
   ]
  },
  {
   "cell_type": "markdown",
   "id": "4e0df94f-4622-4a0e-b26b-c931b46e0625",
   "metadata": {},
   "source": [
    "### Question 6\n",
    "Write a function `frequency_of_values` that:\n",
    "- takes in an array of values (arr) and returns the frequency of each unique value in the array as a dictionary.\n",
    "- if a second parameter `selected` is provided, the function should return the frequency of the selected value in the array as a percentage of the total number of elements."
   ]
  },
  {
   "cell_type": "code",
   "execution_count": 3,
   "id": "c7fe5d9e-78ec-497d-b7ff-744772f51880",
   "metadata": {},
   "outputs": [],
   "source": [
    "def frequency_of_values(arr, selected):\n",
    "    ..."
   ]
  },
  {
   "cell_type": "markdown",
   "id": "8fc3927b-2bd2-4c6f-9284-cfe419ebd50e",
   "metadata": {},
   "source": [
    "### Question 7\n",
    "Run the following cell to generate a dataset. Use the dataset to determine which customer spent the most money."
   ]
  },
  {
   "cell_type": "code",
   "execution_count": 9,
   "id": "5b4db44a-4356-421a-a0de-fd2b270e3ccd",
   "metadata": {
    "tags": []
   },
   "outputs": [
    {
     "data": {
      "text/html": [
       "<table border=\"1\" class=\"dataframe\">\n",
       "    <thead>\n",
       "        <tr>\n",
       "            <th>Date</th> <th>Category</th> <th>Amount</th> <th>Customer ID</th>\n",
       "        </tr>\n",
       "    </thead>\n",
       "    <tbody>\n",
       "        <tr>\n",
       "            <td>2024-03-02</td> <td>Electronics</td> <td>325   </td> <td>C2         </td>\n",
       "        </tr>\n",
       "        <tr>\n",
       "            <td>2024-03-08</td> <td>Sports     </td> <td>170   </td> <td>C4         </td>\n",
       "        </tr>\n",
       "        <tr>\n",
       "            <td>2024-05-03</td> <td>Sports     </td> <td>772   </td> <td>C8         </td>\n",
       "        </tr>\n",
       "        <tr>\n",
       "            <td>2024-02-05</td> <td>Electronics</td> <td>70    </td> <td>C2         </td>\n",
       "        </tr>\n",
       "        <tr>\n",
       "            <td>2024-02-03</td> <td>Beauty     </td> <td>535   </td> <td>C9         </td>\n",
       "        </tr>\n",
       "        <tr>\n",
       "            <td>2024-05-06</td> <td>Electronics</td> <td>391   </td> <td>C10        </td>\n",
       "        </tr>\n",
       "        <tr>\n",
       "            <td>2024-02-06</td> <td>Beauty     </td> <td>153   </td> <td>C12        </td>\n",
       "        </tr>\n",
       "        <tr>\n",
       "            <td>2024-02-01</td> <td>Home       </td> <td>808   </td> <td>C12        </td>\n",
       "        </tr>\n",
       "        <tr>\n",
       "            <td>2024-04-01</td> <td>Beauty     </td> <td>676   </td> <td>C8         </td>\n",
       "        </tr>\n",
       "        <tr>\n",
       "            <td>2024-02-05</td> <td>Clothing   </td> <td>46    </td> <td>C3         </td>\n",
       "        </tr>\n",
       "    </tbody>\n",
       "</table>\n",
       "<p>... (86 rows omitted)</p>"
      ],
      "text/plain": [
       "<IPython.core.display.HTML object>"
      ]
     },
     "metadata": {},
     "output_type": "display_data"
    }
   ],
   "source": [
    "\n",
    "dates = [f\"2024-{month:02d}-{day:02d}\" for month in range(1, 7) for day in range(1, 9)]\n",
    "\n",
    "\n",
    "categories = [\"Electronics\", \"Clothing\", \"Home\", \"Sports\", \"Beauty\"]\n",
    "customer_ids = [f\"C{np.random.randint(1, 15)}\" for i in range(len(dates))]\n",
    "\n",
    "\n",
    "customer_ids = np.random.choice(customer_ids, size=len(dates) * 2)\n",
    "dates = np.random.choice(dates, size=len(customer_ids))\n",
    "categories = np.random.choice(categories, size=len(customer_ids))\n",
    "amounts = [np.random.randint(20, 1000) for i in range(len(customer_ids))]\n",
    "\n",
    "\n",
    "extended_transactions = Table().with_columns(\n",
    "    \"Date\", dates,\n",
    "    \"Category\", categories,\n",
    "    \"Amount\", amounts,\n",
    "    \"Customer ID\", customer_ids\n",
    ")\n",
    "\n",
    "\n",
    "extended_transactions.show(10)"
   ]
  },
  {
   "cell_type": "markdown",
   "id": "5c23f568-f8fe-4b78-9852-2a423d883fa8",
   "metadata": {},
   "source": [
    "### Question 8\n",
    "Complete the function regression equation that will return the input table with a new column called `Estimate`. This new column has the predicted values of y based on x from the linear regression equation you are making. Assume you have the `standard_units()` function that converts an array to standard units."
   ]
  },
  {
   "cell_type": "code",
   "execution_count": 10,
   "id": "4ff5b3cd-152c-4bd2-9533-ba9a20ff912c",
   "metadata": {
    "tags": []
   },
   "outputs": [],
   "source": [
    "def regression_equation(tbl,x,y):\n",
    "    r=...\n",
    "    slope=...\n",
    "    intercept=...\n",
    "    return ..."
   ]
  },
  {
   "cell_type": "markdown",
   "id": "c419bed9-f4f9-47f6-a734-f80aeb4a34fe",
   "metadata": {},
   "source": [
    "### Question 9 \n",
    "(A) When performing/constructing a hypothesis test, what is the difference between the p-value cut off, and the p-value?  \n",
    "(B) Why is calculating the proper P-value important, as well as choosing an appropriate cut off?"
   ]
  },
  {
   "cell_type": "markdown",
   "id": "d128e9b9-6e1f-40fd-a460-4b99950627a7",
   "metadata": {},
   "source": [
    "### Question 10\n",
    "Find the correlation between the Weight and Height attributes in the following table \"table\"."
   ]
  },
  {
   "cell_type": "code",
   "execution_count": 11,
   "id": "dd8f3497-ca8d-4a68-9a7b-6873e61dbd95",
   "metadata": {
    "tags": []
   },
   "outputs": [
    {
     "data": {
      "text/html": [
       "<table border=\"1\" class=\"dataframe\">\n",
       "    <thead>\n",
       "        <tr>\n",
       "            <th>Weight</th> <th>Height</th>\n",
       "        </tr>\n",
       "    </thead>\n",
       "    <tbody>\n",
       "        <tr>\n",
       "            <td>120   </td> <td>60    </td>\n",
       "        </tr>\n",
       "        <tr>\n",
       "            <td>200   </td> <td>60    </td>\n",
       "        </tr>\n",
       "        <tr>\n",
       "            <td>160   </td> <td>56    </td>\n",
       "        </tr>\n",
       "        <tr>\n",
       "            <td>150   </td> <td>62    </td>\n",
       "        </tr>\n",
       "        <tr>\n",
       "            <td>170   </td> <td>66    </td>\n",
       "        </tr>\n",
       "        <tr>\n",
       "            <td>190   </td> <td>66    </td>\n",
       "        </tr>\n",
       "        <tr>\n",
       "            <td>150   </td> <td>56    </td>\n",
       "        </tr>\n",
       "        <tr>\n",
       "            <td>190   </td> <td>64    </td>\n",
       "        </tr>\n",
       "        <tr>\n",
       "            <td>180   </td> <td>64    </td>\n",
       "        </tr>\n",
       "        <tr>\n",
       "            <td>170   </td> <td>64    </td>\n",
       "        </tr>\n",
       "    </tbody>\n",
       "</table>\n",
       "<p>... (35 rows omitted)</p>"
      ],
      "text/plain": [
       "Weight | Height\n",
       "120    | 60\n",
       "200    | 60\n",
       "160    | 56\n",
       "150    | 62\n",
       "170    | 66\n",
       "190    | 66\n",
       "150    | 56\n",
       "190    | 64\n",
       "180    | 64\n",
       "170    | 64\n",
       "... (35 rows omitted)"
      ]
     },
     "execution_count": 11,
     "metadata": {},
     "output_type": "execute_result"
    }
   ],
   "source": [
    "table = Table().with_columns(\"Weight (pounds)\", np.repeat(np.arange(120,210,10), 5), \"Height (inches)\", np.repeat(np.arange(54, 72, 2), 5))\n",
    "shuffled_weight = table.sample(with_replacement = False).column(0)\n",
    "shuffled_height = table.sample(with_replacement = False).column(1)\n",
    "shuffled_table = Table().with_columns(\"Weight\", shuffled_weight, \"Height\", shuffled_height)\n",
    "shuffled_table"
   ]
  },
  {
   "cell_type": "markdown",
   "id": "2ea0117a-86ad-4bc7-9f50-a19840238493",
   "metadata": {},
   "source": [
    "### Question 11\n",
    "A factory uses a machine to inspect products for defects. These are the known probabilities:\n",
    "\n",
    "The probability that a product is defective is P(Defective) = 0.2\n",
    "The probability that a product is NOT defective is P(Standard) = 0.8\n",
    "If a product is defective, the machine correctly identifies it with the probability of P(DefectiveVerified) = 0.85\n",
    "If a product is not defective, the machine incorrectly identifies it as defective with probability of P(FalsePositive) = 0.1\n",
    "A randomly selected product is identified as defective by the machine. What is the probability that the widget is truly defective?\n",
    "\n",
    "A) 68.00%\n",
    "\n",
    "B) 83.00%\n",
    "\n",
    "C) 45.55%\n",
    "\n",
    "D) 21.12%"
   ]
  },
  {
   "cell_type": "markdown",
   "id": "f12f486e-5c36-4e92-8427-6791a328138d",
   "metadata": {},
   "source": [
    "### Question 12\n",
    "Mark is a big fan of the video game series Pokemon. He just learned that every pokemon has a very rare alternate color that can be obtained called a shiny. Mark's favorite pokemon is pikachu but specifically the female version becuase of the shape of it's tail. Assume the chance of encountering a shiny pokemon is 1/4096 and the chance of encountering a female pikachu is 1/4. What is the probability that Mark will find a shiny pikachu given that it is female with each encounter?"
   ]
  },
  {
   "cell_type": "markdown",
   "id": "8a19c09f-1168-42a7-aa43-c803280af0de",
   "metadata": {},
   "source": [
    "### Question 13\n",
    "\n",
    "A community has an average age of 45 years with a standard deviation of 5 years.\n",
    "\n",
    "Fill in the blank with a percent that makes the statement true without further assumptions, and explain your answer.\n",
    "\n",
    "Note: No credit will be given for loose bounds such as \"at least 0%\" or \"at most 100%\". Give the best answer that is possible with the information given.\n",
    "\n",
    "At least _______% of the people are between 25 and 65 years old."
   ]
  },
  {
   "cell_type": "markdown",
   "id": "e3d280ab-5820-46f5-9bb0-963a588dc823",
   "metadata": {},
   "source": [
    "### Question 14\n",
    "\n",
    "You are given a table named students with the following columns:\n",
    "- `name`: The student’s name (as a string).\n",
    "- `math`: The student’s score in Math (as integers).\n",
    "- `science`: The student’s score in Science (as integers).\n",
    "- `english`: The student’s score in English (as integers).\n",
    "\n",
    "Write a Python function `average_score(student_row)` that takes a row from the table and returns the average score of the student across all three subjects.\n",
    "\n",
    "Use the apply method to create a new column in the students table called `avgScore` that contains\n",
    "the average score for each student.\n",
    "\n",
    "Then find the student with the highest average score’s name, as a string"
   ]
  },
  {
   "cell_type": "code",
   "execution_count": 25,
   "id": "ef0f33af-cc33-45dd-b82e-b692e87302e1",
   "metadata": {
    "tags": []
   },
   "outputs": [
    {
     "data": {
      "text/html": [
       "<table border=\"1\" class=\"dataframe\">\n",
       "    <thead>\n",
       "        <tr>\n",
       "            <th>name</th> <th>math</th> <th>science</th> <th>english</th>\n",
       "        </tr>\n",
       "    </thead>\n",
       "    <tbody>\n",
       "        <tr>\n",
       "            <td>Will   </td> <td>85  </td> <td>88     </td> <td>92     </td>\n",
       "        </tr>\n",
       "        <tr>\n",
       "            <td>Isaac  </td> <td>90  </td> <td>76     </td> <td>89     </td>\n",
       "        </tr>\n",
       "        <tr>\n",
       "            <td>Georgie</td> <td>78  </td> <td>95     </td> <td>85     </td>\n",
       "        </tr>\n",
       "    </tbody>\n",
       "</table>"
      ],
      "text/plain": [
       "name    | math | science | english\n",
       "Will    | 85   | 88      | 92\n",
       "Isaac   | 90   | 76      | 89\n",
       "Georgie | 78   | 95      | 85"
      ]
     },
     "execution_count": 25,
     "metadata": {},
     "output_type": "execute_result"
    }
   ],
   "source": [
    "students = Table().with_columns(\n",
    "'name', ['Will', 'Isaac', 'Georgie'],\n",
    "'math', [85, 90, 78],\n",
    "'science', [88, 76, 95],\n",
    "'english', [92, 89, 85]\n",
    ")\n",
    "students"
   ]
  },
  {
   "cell_type": "markdown",
   "id": "3dfb170d-d6d4-4152-ae36-a51ce8e1a234",
   "metadata": {},
   "source": [
    "### Question 15\n",
    "\n",
    "What does the following function mystery return?\n",
    "\n",
    "```python\n",
    "def mystery(t, label_x, label_y):\n",
    "    thingy = np.mean(standard_units(t.column(label_x))*standard_units(t.column(label_y)))\n",
    "    return thingy\n",
    "```\n",
    "\n",
    "A)  The X and Y Arrays in Standard Units  \n",
    "B)  The R/Correlation Value of the Regression Line  \n",
    "C)  The Slope of the Regression Line  \n",
    "D)  The Intercept of the Regression Line  "
   ]
  },
  {
   "cell_type": "code",
   "execution_count": null,
   "id": "baa5e6b6-9126-469a-9b6a-efe712b19d5a",
   "metadata": {},
   "outputs": [],
   "source": []
  },
  {
   "cell_type": "markdown",
   "id": "211c8119-bfdc-47d4-8048-7f1463a7009d",
   "metadata": {},
   "source": [
    "## Solutions"
   ]
  },
  {
   "cell_type": "markdown",
   "id": "a2b5e183-d483-4b3b-b5cb-72a8b944aedf",
   "metadata": {
    "tags": []
   },
   "source": [
    "### Question 1"
   ]
  },
  {
   "cell_type": "code",
   "execution_count": 12,
   "id": "0ddbacfb-fed3-41c1-a36a-c94733930359",
   "metadata": {
    "tags": []
   },
   "outputs": [
    {
     "data": {
      "text/plain": [
       "0.5"
      ]
     },
     "execution_count": 12,
     "metadata": {},
     "output_type": "execute_result"
    }
   ],
   "source": [
    "( 0.47 * 0.71 ) / ( ( 0.47 * 0.71 ) + ( 0.47 * 0.71 ) )"
   ]
  },
  {
   "cell_type": "markdown",
   "id": "40464f67-0255-4e11-a7f6-dba90632cf4d",
   "metadata": {
    "tags": []
   },
   "source": [
    "### Question 2"
   ]
  },
  {
   "cell_type": "code",
   "execution_count": 13,
   "id": "14074bbb-0e76-428a-9ee3-7c0f7de6a57d",
   "metadata": {
    "tags": []
   },
   "outputs": [
    {
     "data": {
      "text/plain": [
       "(0.078125, 2.352719744024092e-05, 0.03705533596837945, 0.4166666666666667)"
      ]
     },
     "execution_count": 13,
     "metadata": {},
     "output_type": "execute_result"
    }
   ],
   "source": [
    "answer_a = (9/24)*(5/24)\n",
    "answer_b = (5/24)*(4/23)*(3/22)*(2/21)*(1/20)\n",
    "answer_c = (5/24)*(9/23)*(10/22)\n",
    "answer_d = (10/24)\n",
    "\n",
    "answer_a,answer_b,answer_c,answer_d"
   ]
  },
  {
   "cell_type": "markdown",
   "id": "23f65222-2682-47b0-b5e3-74bb9006ac5f",
   "metadata": {
    "tags": []
   },
   "source": [
    "### Question 3"
   ]
  },
  {
   "cell_type": "code",
   "execution_count": null,
   "id": "547f7dac-1441-4c36-8c81-f4caf3780f61",
   "metadata": {},
   "outputs": [],
   "source": [
    "# A. \n",
    "\n",
    "domeC_nice = domeC.relabel(make_array('Depth ice/snow [m]','Age model [ka]','δD [‰ SMOW]','delta T [°C]','Sample ID'),\n",
    "                      make_array('Depth (m)','Age (ka)','delta D (0/00)','delta T (deg C)','Sample ID'))\n",
    "\n",
    "\n",
    "# B(i).\n",
    "domeC_nice.plot('Age (ka)','delta T (deg C)')\n",
    "domeC_nice.plot('Age (ka)','delta D (0/00)')\n",
    "\n",
    "# B(ii) The delta D value and delta T value line up perfectly. This makes me think that they are highly correlated with each other.\n",
    "\n",
    "# C.\n",
    "domeC_nice.scatter('delta T (deg C)','delta D (0/00)')\n",
    "\n",
    "# D\n",
    "## array of nan is an array of the sample IDs of values with no data for delta D\n",
    "array_of_nan = domeC_nice.sort('delta D (0/00)', descending=True).take(np.arange(15)).column('Sample ID')\n",
    "array_of_nan\n",
    "\n",
    "## use array of nan to remove the samples from the dataset\n",
    "domeC_allgood = domeC_nice.where('Sample ID',are.not_contained_in(array_of_nan))\n",
    "domeC_allgood\n",
    "\n",
    "def standard(array):\n",
    "    return (array - np.mean(array))/np.std(array)\n",
    "    \n",
    "def correlation(tbl, x_label, y_label):\n",
    "    x_standard = standard(tbl.column(x_label))\n",
    "    y_standard = standard(tbl.column(y_label))\n",
    "    return np.mean(x_standard * y_standard)\n",
    "\n",
    "r = correlation(domeC_allgood,'delta T (deg C)','delta D (0/00)')\n",
    "r\n",
    "\n",
    "# E.\n",
    "delta_D = domeC_allgood.column('delta D (0/00)')\n",
    "delta_T = domeC_allgood.column('delta T (deg C)')\n",
    "\n",
    "slope = r * (np.std(delta_D)/np.std(delta_T))\n",
    "slope\n",
    "\n",
    "inter = np.mean(delta_D) - slope*np.mean(delta_T)\n",
    "inter\n",
    "\n",
    "Todays_D = slope*3.0+ inter\n",
    "Todays_D"
   ]
  },
  {
   "cell_type": "markdown",
   "id": "2243023c-6ae3-455e-9f94-d16d2f0467e3",
   "metadata": {
    "tags": []
   },
   "source": [
    "### Question 4"
   ]
  },
  {
   "cell_type": "code",
   "execution_count": 3,
   "id": "49f56c10-9913-449f-a509-66d9ffd128dd",
   "metadata": {},
   "outputs": [],
   "source": [
    "def standard_units(arr):\n",
    "    return (arr - np.mean(arr))/np.std(arr) "
   ]
  },
  {
   "cell_type": "markdown",
   "id": "272a6f7c-ce13-4a62-988e-e589b756ad01",
   "metadata": {
    "tags": []
   },
   "source": [
    "### Question 5"
   ]
  },
  {
   "cell_type": "code",
   "execution_count": 14,
   "id": "61ca13b9-eb5e-4e03-be80-d084af6e3ca3",
   "metadata": {
    "tags": []
   },
   "outputs": [
    {
     "data": {
      "text/html": [
       "<table border=\"1\" class=\"dataframe\">\n",
       "    <thead>\n",
       "        <tr>\n",
       "            <th> </th> <th>Train is on time</th> <th>Train is late</th>\n",
       "        </tr>\n",
       "    </thead>\n",
       "    <tbody>\n",
       "        <tr>\n",
       "            <td>bus is on time</td> <td>0.28            </td> <td>0.12         </td>\n",
       "        </tr>\n",
       "        <tr>\n",
       "            <td>bus is late   </td> <td>0.12            </td> <td>0.18         </td>\n",
       "        </tr>\n",
       "    </tbody>\n",
       "</table>"
      ],
      "text/plain": [
       "<IPython.core.display.HTML object>"
      ]
     },
     "metadata": {},
     "output_type": "display_data"
    },
    {
     "name": "stdout",
     "output_type": "stream",
     "text": [
      "The probabilty that Minti will be late is : 0.12\n"
     ]
    }
   ],
   "source": [
    "bus_probs = make_array(.4, .6)\n",
    "train_probs = make_array(.7, .3)\n",
    "\n",
    "P_bus_on_time_train_on_time = bus_probs.item(0) * train_probs.item(0)\n",
    "P_bus_late_train_on_time = bus_probs.item(0) * train_probs.item(1)\n",
    "probabilty_set1 = make_array(P_bus_on_time_train_on_time,P_bus_late_train_on_time)\n",
    "\n",
    "\n",
    "P_bus_on_time_train_late = bus_probs.item(0) * train_probs.item(1)\n",
    "P_bus_late_train_late = bus_probs.item(1) * train_probs.item(1)\n",
    "probabilty_set2 = make_array(P_bus_on_time_train_late,P_bus_late_train_late)\n",
    "\n",
    "Transit = Transit.with_columns(\"Train is on time\", probabilty_set1, \"Train is late\", probabilty_set2)\n",
    "\n",
    "Transit.show(2)\n",
    "\n",
    "\n",
    "will_she_be_late = Transit.column(1).item(1)\n",
    "\n",
    "\n",
    "print(\"The probabilty that Minti will be late is :\", will_she_be_late)"
   ]
  },
  {
   "cell_type": "markdown",
   "id": "86a343fb-d3a9-4979-9b9c-a1e2247081cf",
   "metadata": {
    "tags": []
   },
   "source": [
    "### Question 6"
   ]
  },
  {
   "cell_type": "code",
   "execution_count": 15,
   "id": "f96f0794-98b0-4af2-b5f4-857d1ff9a66d",
   "metadata": {
    "tags": []
   },
   "outputs": [],
   "source": [
    "def frequency_of_values(arr, selected=None):\n",
    "    # Calculate the frequency of each value in the array\n",
    "    total_elements = len(arr)\n",
    "    frequencies = {}\n",
    "    \n",
    "    for value in arr:\n",
    "        if value in frequencies:\n",
    "            frequencies[value] += 1\n",
    "        else:\n",
    "            frequencies[value] = 1\n",
    "    \n",
    "    # If selected is specificed in the arguments\n",
    "    if selected is not None:\n",
    "        if selected in frequencies:\n",
    "            return round((frequencies[selected] / total_elements) * 100, 2)\n",
    "        else:\n",
    "            return 0.0\n",
    "    \n",
    "    return frequencies"
   ]
  },
  {
   "cell_type": "markdown",
   "id": "37cd36ec-32ef-402c-b626-8a6a7acadbfb",
   "metadata": {
    "tags": []
   },
   "source": [
    "### Question 7"
   ]
  },
  {
   "cell_type": "code",
   "execution_count": 16,
   "id": "5a60ddd5-ce97-47cb-8142-59dfd0282ead",
   "metadata": {
    "tags": []
   },
   "outputs": [
    {
     "name": "stdout",
     "output_type": "stream",
     "text": [
      "The customer who spent the most is C12 with a total of $9041.\n"
     ]
    }
   ],
   "source": [
    "customer_totals = extended_transactions.group(\"Customer ID\", sum).select(\"Customer ID\", \"Amount sum\")\n",
    "top_spender = customer_totals.sort(\"Amount sum\", descending=True).row(0)\n",
    "top_customer_id = top_spender.item(0)\n",
    "top_customer_total = top_spender.item(1)\n",
    "\n",
    "print(f\"The customer who spent the most is {top_customer_id} with a total of ${top_customer_total}.\")"
   ]
  },
  {
   "cell_type": "markdown",
   "id": "438e60da-33db-4c8c-bc9c-28c9b6801677",
   "metadata": {
    "tags": []
   },
   "source": [
    "### Question 8"
   ]
  },
  {
   "cell_type": "code",
   "execution_count": 17,
   "id": "7a1ac2d0-9a29-4eca-8756-30347808c288",
   "metadata": {
    "tags": []
   },
   "outputs": [],
   "source": [
    "def regression_equation(tbl,x,y):\n",
    "    r = np.mean(standard_units(tbl.column(x)) * standard_units(tbl.column(y)))\n",
    "    slope = r * np.std(tbl.column(y)) / np.std(tbl.column(x))\n",
    "    intercept=np.mean(tbl.column(y)) - slope * np.mean(tbl.column(x))\n",
    "    return tbl.with_column(\"Estimate\",slope * tbl.column(x) +intercept)"
   ]
  },
  {
   "cell_type": "markdown",
   "id": "0d222d8f-881f-42d3-a952-0e304a23242a",
   "metadata": {
    "tags": []
   },
   "source": [
    "### Question 9"
   ]
  },
  {
   "cell_type": "markdown",
   "id": "83519665-ba25-4ae2-bfd8-0da724b1b2f7",
   "metadata": {},
   "source": [
    "**(A)**\n",
    "*P-Value Cutoff: Something you pick before the testing, does not depend on observed data or simulation.*\n",
    "\n",
    "*P-Value: Is a value that you compute, and does depend on the observed data and simulation.*\n",
    "\n",
    "**(B)**   \n",
    "*It is important to choose an appropriate cut off value, and properly calculating the p-value because if not, then the wrong result can affect wheather a hypothesis is accepted or rejected.*   "
   ]
  },
  {
   "cell_type": "markdown",
   "id": "ba330229-c153-4e9d-bd76-0fd7a484c9f1",
   "metadata": {
    "tags": []
   },
   "source": [
    "### Question 10"
   ]
  },
  {
   "cell_type": "code",
   "execution_count": null,
   "id": "f6906daa-283a-4ad2-b252-9de0aed64a6a",
   "metadata": {},
   "outputs": [],
   "source": [
    "w_su = (shuffled_table.column(0)-np.mean(shuffled_table.column(0)))/np.std(shuffled_table.column(0))\n",
    "h_su = (shuffled_table.column(1)-np.mean(shuffled_table.column(1)))/np.std(shuffled_table.column(1))\n",
    "r = np.mean(w_su*h_su)\n",
    "r"
   ]
  },
  {
   "cell_type": "markdown",
   "id": "9f3408c6-3f20-4893-9257-7b056a3c8dae",
   "metadata": {
    "tags": []
   },
   "source": [
    "### Question 11"
   ]
  },
  {
   "cell_type": "code",
   "execution_count": 20,
   "id": "c27ffe93-42d6-4874-877a-4779540d4b52",
   "metadata": {
    "tags": []
   },
   "outputs": [],
   "source": [
    "#A) 68.00 %"
   ]
  },
  {
   "cell_type": "markdown",
   "id": "a1001048-0b80-4c95-98bd-2b3e54ee2399",
   "metadata": {
    "tags": []
   },
   "source": [
    "### Question 12"
   ]
  },
  {
   "cell_type": "code",
   "execution_count": 18,
   "id": "c8cbd289-2de3-475f-9259-15b4b54d46da",
   "metadata": {
    "tags": []
   },
   "outputs": [
    {
     "data": {
      "text/plain": [
       "6.103515625e-05"
      ]
     },
     "execution_count": 18,
     "metadata": {},
     "output_type": "execute_result"
    }
   ],
   "source": [
    "(1/4096) * (1/4)"
   ]
  },
  {
   "cell_type": "markdown",
   "id": "567a64f1-689a-4c79-840c-5d8bf84f7f70",
   "metadata": {},
   "source": [
    "### Question 13"
   ]
  },
  {
   "cell_type": "code",
   "execution_count": 24,
   "id": "d7636d7d-4726-49bb-a38c-155bd77d1f0e",
   "metadata": {
    "tags": []
   },
   "outputs": [
    {
     "data": {
      "text/plain": [
       "0.9375"
      ]
     },
     "execution_count": 24,
     "metadata": {},
     "output_type": "execute_result"
    }
   ],
   "source": [
    "# How much data is within 4 sds of the mean? Chebyshev. \n",
    "\n",
    "1 - 1/4**2"
   ]
  },
  {
   "cell_type": "markdown",
   "id": "ecc4d732-f0bc-4a8d-816a-f148f62fa459",
   "metadata": {},
   "source": [
    "### Question 14"
   ]
  },
  {
   "cell_type": "code",
   "execution_count": 28,
   "id": "24311c97-4b4e-47d8-9113-7a2a0184525b",
   "metadata": {
    "tags": []
   },
   "outputs": [],
   "source": [
    "def avgscore(studentrow):\n",
    "    return (studentrow.item('math') + studentrow.item('science') + studentrow.item('english'))/3"
   ]
  },
  {
   "cell_type": "code",
   "execution_count": 29,
   "id": "2d8c0c27-758b-464c-bc54-64008a710b44",
   "metadata": {
    "tags": []
   },
   "outputs": [
    {
     "data": {
      "text/html": [
       "<table border=\"1\" class=\"dataframe\">\n",
       "    <thead>\n",
       "        <tr>\n",
       "            <th>name</th> <th>math</th> <th>science</th> <th>english</th> <th>avgScore</th>\n",
       "        </tr>\n",
       "    </thead>\n",
       "    <tbody>\n",
       "        <tr>\n",
       "            <td>Will   </td> <td>85  </td> <td>88     </td> <td>92     </td> <td>88.3333 </td>\n",
       "        </tr>\n",
       "        <tr>\n",
       "            <td>Isaac  </td> <td>90  </td> <td>76     </td> <td>89     </td> <td>85      </td>\n",
       "        </tr>\n",
       "        <tr>\n",
       "            <td>Georgie</td> <td>78  </td> <td>95     </td> <td>85     </td> <td>86      </td>\n",
       "        </tr>\n",
       "    </tbody>\n",
       "</table>"
      ],
      "text/plain": [
       "name    | math | science | english | avgScore\n",
       "Will    | 85   | 88      | 92      | 88.3333\n",
       "Isaac   | 90   | 76      | 89      | 85\n",
       "Georgie | 78   | 95      | 85      | 86"
      ]
     },
     "execution_count": 29,
     "metadata": {},
     "output_type": "execute_result"
    }
   ],
   "source": [
    "students = students.with_column(\"avgScore\", students.apply(avgscore))\n",
    "students"
   ]
  },
  {
   "cell_type": "code",
   "execution_count": 30,
   "id": "56387a05-3a2b-4e68-bb31-92c7a2840183",
   "metadata": {
    "tags": []
   },
   "outputs": [
    {
     "data": {
      "text/plain": [
       "'Isaac'"
      ]
     },
     "execution_count": 30,
     "metadata": {},
     "output_type": "execute_result"
    }
   ],
   "source": [
    "highestscore = students.sort('avgScore').column('name').item(0)\n",
    "highestscore"
   ]
  },
  {
   "cell_type": "markdown",
   "id": "d4863e29-9fef-432e-a982-8ac5f13d9611",
   "metadata": {},
   "source": [
    "### Question 15\n",
    "B"
   ]
  },
  {
   "cell_type": "code",
   "execution_count": null,
   "id": "7e8d5164-230e-4b37-b6f1-dbfe79f727f9",
   "metadata": {},
   "outputs": [],
   "source": []
  }
 ],
 "metadata": {
  "kernelspec": {
   "display_name": "Python 3 (ipykernel)",
   "language": "python",
   "name": "python3"
  },
  "language_info": {
   "codemirror_mode": {
    "name": "ipython",
    "version": 3
   },
   "file_extension": ".py",
   "mimetype": "text/x-python",
   "name": "python",
   "nbconvert_exporter": "python",
   "pygments_lexer": "ipython3",
   "version": "3.11.4"
  }
 },
 "nbformat": 4,
 "nbformat_minor": 5
}
