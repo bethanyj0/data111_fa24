{
 "cells": [
  {
   "cell_type": "code",
   "execution_count": null,
   "id": "dda046a0",
   "metadata": {
    "deletable": false,
    "editable": false
   },
   "outputs": [],
   "source": [
    "# Initialize Otter\n",
    "import otter\n",
    "grader = otter.Notebook(\"hw10.ipynb\")"
   ]
  },
  {
   "cell_type": "markdown",
   "id": "0c1c34a0",
   "metadata": {},
   "source": [
    "# Homework 10: Linear Regression"
   ]
  },
  {
   "cell_type": "markdown",
   "id": "333285ad",
   "metadata": {},
   "source": [
    "**Helpful Resource:**\n",
    "\n",
    "- [Python Reference](https://www.data8.org/datascience/reference-nb/datascience-reference.html): Cheat sheet of helpful array & table methods used in Data 111!\n",
    "\n",
    "**Recommended Readings**: \n",
    "\n",
    "* [The Regression Line](https://www.inferentialthinking.com/chapters/15/2/Regression_Line.html)\n",
    "* [Method of Least Squares](https://www.inferentialthinking.com/chapters/15/3/Method_of_Least_Squares.html)\n",
    "* [Least Squares Regression](https://www.inferentialthinking.com/chapters/15/4/Least_Squares_Regression.html)"
   ]
  },
  {
   "cell_type": "markdown",
   "id": "12f3d08a",
   "metadata": {},
   "source": [
    "Please complete this notebook by filling in the cells provided. Before you begin, execute the following cell to setup the notebook by importing some helpful libraries. Each time you start your server, you will need to execute this cell again.\n",
    "\n",
    "For all problems that you must write explanations and sentences for, you **must** provide your answer in the designated space. **Moreover, throughout this homework and all future ones, please be sure to not re-assign variables throughout the notebook!** For example, if you use `max_temperature` in your answer to one question, do not reassign it later on. Otherwise, you will fail tests that you thought you were passing previously!\n",
    "\n",
    "\n",
    "**Note: This homework has hidden tests on it. That means even though the tests may say 100% passed, it doesn't mean your final grade will be 100%. We will be running more tests for correctness once everyone turns in the homework.**\n",
    "\n",
    "\n",
    "Directly sharing answers is not okay, but discussing problems with a tutor or with other students is encouraged. \n",
    "\n",
    "You should start early so that you have time to get help if you're stuck."
   ]
  },
  {
   "cell_type": "code",
   "execution_count": null,
   "id": "071b26a9",
   "metadata": {
    "tags": []
   },
   "outputs": [],
   "source": [
    "# Run this cell to set up the notebook, but please don't change it.\n",
    "\n",
    "import numpy as np\n",
    "from datascience import *\n",
    "\n",
    "# These lines do some fancy plotting magic.\n",
    "import matplotlib\n",
    "%matplotlib inline\n",
    "import matplotlib.pyplot as plt\n",
    "plt.style.use('fivethirtyeight')\n",
    "import warnings\n",
    "warnings.simplefilter('ignore', FutureWarning)\n",
    "from datetime import datetime"
   ]
  },
  {
   "cell_type": "markdown",
   "id": "93f5aad1",
   "metadata": {},
   "source": [
    "## 1. Triple Jump Distances vs. Vertical Jump Heights "
   ]
  },
  {
   "cell_type": "markdown",
   "id": "bd2d97b7",
   "metadata": {},
   "source": [
    "Does skill in one sport imply skill in a related sport?  The answer might be different for different activities. Let's find out whether it's true for the [triple jump](https://en.wikipedia.org/wiki/Triple_jump) (a horizontal jump similar to a long jump) and the [vertical jump](https://en.wikipedia.org/wiki/Vertical_jump).  Since we're learning about linear regression, we will look specifically for a *linear* association between skill level in the two sports.\n",
    "\n",
    "The following data was collected by observing 40 collegiate-level soccer players. Each athlete's distances in both events were measured in centimeters. Run the cell below to load the data."
   ]
  },
  {
   "cell_type": "code",
   "execution_count": null,
   "id": "20542eff",
   "metadata": {
    "ExecuteTime": {
     "end_time": "2018-04-03T22:42:22.463984Z",
     "start_time": "2018-04-03T22:42:22.455963Z"
    },
    "tags": []
   },
   "outputs": [],
   "source": [
    "# Run this cell to load the data\n",
    "jumps = Table.read_table('triple_vertical.csv')\n",
    "jumps"
   ]
  },
  {
   "cell_type": "markdown",
   "id": "f7e94951",
   "metadata": {},
   "source": [
    "**Question 1.1.** Create a function `standard_units` that converts the values in the array `data` to standard units. **(5 points)**\n"
   ]
  },
  {
   "cell_type": "code",
   "execution_count": null,
   "id": "487e3c57",
   "metadata": {
    "tags": []
   },
   "outputs": [],
   "source": [
    "def standard_units(data):\n",
    "    ..."
   ]
  },
  {
   "cell_type": "code",
   "execution_count": null,
   "id": "2421a2f5",
   "metadata": {
    "deletable": false,
    "editable": false
   },
   "outputs": [],
   "source": [
    "grader.check(\"q1_1\")"
   ]
  },
  {
   "cell_type": "markdown",
   "id": "d9a2beec",
   "metadata": {},
   "source": [
    "**Question 1.2.** Now, using the `standard_units` function, define the function `correlation` which computes the correlation between `x` and `y`. **(5 points)**\n"
   ]
  },
  {
   "cell_type": "code",
   "execution_count": null,
   "id": "0752c8f4",
   "metadata": {
    "tags": []
   },
   "outputs": [],
   "source": [
    "def correlation(x, y):\n",
    "    ..."
   ]
  },
  {
   "cell_type": "code",
   "execution_count": null,
   "id": "2823df86",
   "metadata": {
    "deletable": false,
    "editable": false
   },
   "outputs": [],
   "source": [
    "grader.check(\"q1_2\")"
   ]
  },
  {
   "cell_type": "markdown",
   "id": "9e24c7d2",
   "metadata": {},
   "source": [
    "<!-- BEGIN QUESTION -->\n",
    "\n",
    "**Question 1.3.** Before running a regression, it's important to see what the data looks like, because our eyes are good at picking out unusual patterns in data.  Draw a scatter plot, **that includes the regression line**, with the triple jump distances on the horizontal axis and the vertical jump heights on vertical axis. **(5 points)**\n",
    "\n",
    "See the documentation on `scatter` [here](http://data8.org/datascience/_autosummary/datascience.tables.Table.scatter.html#datascience.tables.Table.scatter) for instructions on how to have Python draw the regression line automatically.\n",
    "\n",
    "*Hint:* The `fit_line` argument may be useful here!\n"
   ]
  },
  {
   "cell_type": "code",
   "execution_count": null,
   "id": "d9bb43c3",
   "metadata": {
    "ExecuteTime": {
     "end_time": "2018-04-03T07:28:04.288689Z",
     "start_time": "2018-04-03T07:28:04.108660Z"
    },
    "deletable": false,
    "manual_problem_id": "jumping_1",
    "tags": []
   },
   "outputs": [],
   "source": [
    "..."
   ]
  },
  {
   "cell_type": "markdown",
   "id": "73d8d391",
   "metadata": {},
   "source": [
    "<!-- END QUESTION -->\n",
    "\n",
    "<!-- BEGIN QUESTION -->\n",
    "\n",
    "**Question 1.4.** Does the correlation coefficient $r$ look closest to 0, .5, or -.5? Explain. **(5 points)**\n"
   ]
  },
  {
   "cell_type": "markdown",
   "id": "48d5ad8d",
   "metadata": {},
   "source": [
    "_Type your answer here, replacing this text._"
   ]
  },
  {
   "cell_type": "markdown",
   "id": "a97b6377",
   "metadata": {},
   "source": [
    "<!-- END QUESTION -->\n",
    "\n",
    "**Question 1.5.** Create a function called `parameter_estimates` that takes in the argument `tbl`, a two-column table where the first column is the x-axis and the second column is the y-axis. It should return an array with three elements: the **(1) correlation coefficient** of the two columns and the **(2) slope** and **(3) intercept** of the regression line that predicts the second column from the first, in original units. **(5 points)**\n",
    "\n",
    "*Hint:* This is a rare occasion where it’s better to implement the function using column indices instead of column names, in order to be able to call this function on any table. If you need a reminder about how to use column indices to pull out individual columns, please refer to [this](https://www.inferentialthinking.com/chapters/06/Tables.html#accessing-the-data-in-a-column) section of the textbook.\n"
   ]
  },
  {
   "cell_type": "code",
   "execution_count": null,
   "id": "eb1de61e",
   "metadata": {
    "ExecuteTime": {
     "end_time": "2018-04-03T22:42:28.451495Z",
     "start_time": "2018-04-03T22:42:28.441469Z"
    },
    "for_assignment_type": "solution",
    "tags": []
   },
   "outputs": [],
   "source": [
    "def parameter_estimates(tbl):\n",
    "    ...\n",
    "    return make_array(r, slope, intercept)\n",
    "\n",
    "parameters = parameter_estimates(jumps) \n",
    "print('r:', parameters.item(0), '; slope:', parameters.item(1), '; intercept:', parameters.item(2))"
   ]
  },
  {
   "cell_type": "code",
   "execution_count": null,
   "id": "21a1699b",
   "metadata": {
    "deletable": false,
    "editable": false
   },
   "outputs": [],
   "source": [
    "grader.check(\"q1_5\")"
   ]
  },
  {
   "cell_type": "markdown",
   "id": "38f440cd",
   "metadata": {},
   "source": [
    "**Question 1.6.** Now suppose you want to go the other way and predict a triple jump distance given a vertical jump distance. What would the regression parameters of this linear model be? How do they compare to the regression parameters from the model where you were predicting vertical jump distance given a triple jump distance (in Question 1.5)? **(4 points)**\n",
    "\n",
    "Set `regression_changes` to an array of 3 elements, with each element corresponding to whether or not the corresponding item returned by `parameter_estimates` changes when switching vertical and triple as $x$ and $y$. For example, if $r$ changes, the slope changes, but the intercept wouldn't change, the `regression_changes` would be assigned to `make_array(True, True, False)`.\n"
   ]
  },
  {
   "cell_type": "code",
   "execution_count": null,
   "id": "92297818",
   "metadata": {
    "tags": []
   },
   "outputs": [],
   "source": [
    "regression_changes = ...\n",
    "regression_changes"
   ]
  },
  {
   "cell_type": "code",
   "execution_count": null,
   "id": "cf52dda2",
   "metadata": {
    "deletable": false,
    "editable": false
   },
   "outputs": [],
   "source": [
    "grader.check(\"q1_6\")"
   ]
  },
  {
   "cell_type": "markdown",
   "id": "0c0d9ff0",
   "metadata": {},
   "source": [
    "**Question 1.7.** Let's use `parameters` (from Question 1.5) to predict what certain athletes' vertical jump heights would be given their triple jump distances. **(4 points)**\n",
    "\n",
    "The world record for the triple jump distance is 18.29 *meters* by Johnathan Edwards. What is the prediction for Edwards' vertical jump using this line?\n",
    "\n",
    "*Hint:* Make sure to convert from meters to centimeters!\n"
   ]
  },
  {
   "cell_type": "code",
   "execution_count": null,
   "id": "b98cff0b",
   "metadata": {
    "deletable": false,
    "tags": []
   },
   "outputs": [],
   "source": [
    "triple_record_vert_est = ...\n",
    "print(\"Predicted vertical jump distance: {:f} centimeters\".format(triple_record_vert_est))"
   ]
  },
  {
   "cell_type": "code",
   "execution_count": null,
   "id": "5424617f",
   "metadata": {
    "deletable": false,
    "editable": false
   },
   "outputs": [],
   "source": [
    "grader.check(\"q1_7\")"
   ]
  },
  {
   "cell_type": "markdown",
   "id": "270856e0",
   "metadata": {},
   "source": [
    "<!-- BEGIN QUESTION -->\n",
    "\n",
    "**Question 1.8.** Do you think it makes sense to use this line to predict Edwards' vertical jump? **(4 points)**\n",
    "\n",
    "*Hint:* Compare Edwards' triple jump distance to the triple jump distances in `jumps`. Is it relatively similar to the rest of the data (shown in Question 1.3)? \n"
   ]
  },
  {
   "cell_type": "markdown",
   "id": "5ad2416b",
   "metadata": {},
   "source": [
    "_Type your answer here, replacing this text._"
   ]
  },
  {
   "cell_type": "markdown",
   "id": "c46db8eb",
   "metadata": {},
   "source": [
    "<!-- END QUESTION -->\n",
    "\n",
    "## 2. Relative Sea Level Rise"
   ]
  },
  {
   "cell_type": "markdown",
   "id": "8c0fa2e9",
   "metadata": {},
   "source": [
    "#### Global Mean Sea Level\n",
    "\n",
    "In Project 2, you've been studying climate change by analyzing temperature and drought trends. Climate change has other envronmental effects too. Atmospheric carbon dioxide (the most commonly emitted greenhouse gas) has reached 400 parts per million, a level unseen on earth in the last 800,000 years. Most of the additional heat that is being trapped is being absorbed by the oceans. As the water warms up, it expands, takes up more space, and causes sea levels to rise. Additionally, melting land ice (especially on Greenland and Antarctica) is adding mass to the ocean, further raising **global mean sea level**(GMSL)."
   ]
  },
  {
   "cell_type": "markdown",
   "id": "5543768f",
   "metadata": {},
   "source": [
    "<!-- BEGIN QUESTION -->\n",
    "\n",
    "**Question 2.1.** Based on the description above, what are the two main ways that climate change increases global mean sea level? **(2 points)**"
   ]
  },
  {
   "cell_type": "markdown",
   "id": "9f38731a",
   "metadata": {},
   "source": [
    "_Type your answer here, replacing this text._"
   ]
  },
  {
   "cell_type": "markdown",
   "id": "32bedd8b",
   "metadata": {
    "ExecuteTime": {
     "end_time": "2018-04-04T09:57:46.445990Z",
     "start_time": "2018-04-04T09:57:46.433958Z"
    },
    "execution": {
     "iopub.execute_input": "2022-04-07T03:32:59.497379Z",
     "iopub.status.busy": "2022-04-07T03:32:59.497125Z",
     "iopub.status.idle": "2022-04-07T03:32:59.509256Z",
     "shell.execute_reply": "2022-04-07T03:32:59.508571Z"
    }
   },
   "source": [
    "<!-- END QUESTION -->\n",
    "\n",
    "#### Relative Sea Level\n",
    "\n",
    "Each coastal location will experience sea level rise differently due to local and regional factors. One of these factors is the rising or sinking of land due to plate tectonics, called **vertical land motion** (VLM). If the land is sinking at a coastal location AND the ocean in the region is rising, then the locals might be very worried. If instead the land is rising faster than the ocean is rising, then the locals might feel as if the ocean is receeding. We can account for this effect by using **relative sea level** (RSL), where we observe water levels relative to a land based reference frame. "
   ]
  },
  {
   "cell_type": "markdown",
   "id": "a2ab2aa0",
   "metadata": {},
   "source": [
    "#### Relative Sea Level in Northern California\n",
    "\n",
    "Let's take a look at relative sea level data from two different tide gauge locations along our coast to see how this plays out..."
   ]
  },
  {
   "cell_type": "code",
   "execution_count": null,
   "id": "2f332adf",
   "metadata": {
    "ExecuteTime": {
     "end_time": "2018-04-04T09:57:46.458022Z",
     "start_time": "2018-04-04T09:57:46.446994Z"
    },
    "tags": []
   },
   "outputs": [],
   "source": [
    "stations = Table.read_table(\"NorCalSLRmeta.csv\")\n",
    "\n",
    "Marker.map_table(stations.select('lat', 'lon', 'station_name').relabel('station_name', 'labels'))"
   ]
  },
  {
   "cell_type": "markdown",
   "id": "7f8a2d95",
   "metadata": {},
   "source": [
    "Zoom out on the map until you see both blue markers. Click on each marker to see the labels for the tide gauge stations. "
   ]
  },
  {
   "cell_type": "markdown",
   "id": "cc9c99c4",
   "metadata": {},
   "source": [
    "<!-- BEGIN QUESTION -->\n",
    "\n",
    "**Question 2.2.** What is the name of the tide gauge station that is closest to Cal Poly Humboldt? **(1 point)**"
   ]
  },
  {
   "cell_type": "markdown",
   "id": "983579f8",
   "metadata": {},
   "source": [
    "_Type your answer here, replacing this text._"
   ]
  },
  {
   "cell_type": "markdown",
   "id": "bae46b94",
   "metadata": {},
   "source": [
    "<!-- END QUESTION -->\n",
    "\n",
    "Now let's look at the data from these stations. The data is in meters and is an average of the water levels for each month. Additionally, regular seasonal fluctuations have been removed."
   ]
  },
  {
   "cell_type": "code",
   "execution_count": null,
   "id": "2c696bab",
   "metadata": {
    "tags": []
   },
   "outputs": [],
   "source": [
    "rsl = Table.read_table(\"NorCalSLR.csv\")\n",
    "rsl"
   ]
  },
  {
   "cell_type": "markdown",
   "id": "b010d90d",
   "metadata": {},
   "source": [
    "Here is a plot of both stations:"
   ]
  },
  {
   "cell_type": "code",
   "execution_count": null,
   "id": "be187780",
   "metadata": {
    "deletable": false,
    "for_assignment_type": "student",
    "tags": []
   },
   "outputs": [],
   "source": [
    "rsl.plot(\"months since December 1979\",[\"North Spit\", \"Crescent City\"])\n",
    "plt.title('Monthly Avg RSL (Seasonal Cycle Removed) ')\n",
    "plt.ylabel('RSL [meters]');"
   ]
  },
  {
   "cell_type": "markdown",
   "id": "d89790b1",
   "metadata": {},
   "source": [
    "Let's take a closer look at each of these stations, one by one."
   ]
  },
  {
   "cell_type": "markdown",
   "id": "6810fabf",
   "metadata": {},
   "source": [
    "## 3. Sea Level Rise at North Spit"
   ]
  },
  {
   "cell_type": "markdown",
   "id": "4a633d30",
   "metadata": {},
   "source": [
    "**Question 3.1.** Use the function `parameter_estimates` that you defined earlier to compute the least-squares linear regression line that predicts relative sea level (RSL) at *North Spit* based on the month, in original units. We have provided a two column table for you in the cell below with the first column representing the months since December 1979 (x) and the second column representing observed RSL at North Spit (y). Use the `parameter_estimates` function to find the slope (`rsl_ns_slope`) and intercept (`rsl_ns_intercept`) of the regression line. **(2 points)**"
   ]
  },
  {
   "cell_type": "code",
   "execution_count": null,
   "id": "37d5ed2d",
   "metadata": {
    "tags": []
   },
   "outputs": [],
   "source": [
    "rsl_ns_tbl = rsl.select('months since December 1979', 'North Spit').relabeled('North Spit','Observed')\n",
    "estimates = ...\n",
    "rsl_ns_slope = ...\n",
    "rsl_ns_intercept = ...\n",
    "print(\"Slope:\", round(rsl_ns_slope, 5))\n",
    "print(\"Intercept\", round(rsl_ns_intercept, 5))"
   ]
  },
  {
   "cell_type": "code",
   "execution_count": null,
   "id": "bdb9af54",
   "metadata": {
    "deletable": false,
    "editable": false
   },
   "outputs": [],
   "source": [
    "grader.check(\"q3_1\")"
   ]
  },
  {
   "cell_type": "markdown",
   "id": "04ffb663",
   "metadata": {},
   "source": [
    "**Question 3.2.** Sea level rise is typically documented in units of *millimeters per year*, but the slope you computed in the previous problem is in units of *meters per month*. Convert the slope for North Spit from *meters per month* to *millimeters per year*. (**2 point**)"
   ]
  },
  {
   "cell_type": "code",
   "execution_count": null,
   "id": "1bc3bab5",
   "metadata": {
    "tags": []
   },
   "outputs": [],
   "source": [
    "rsl_ns_slope_mm_per_year = ...\n",
    "print(\"Sea Level Rise [mm/year] at North Spit:\", round(rsl_ns_slope_mm_per_year,2))"
   ]
  },
  {
   "cell_type": "markdown",
   "id": "8e6e0dac",
   "metadata": {},
   "source": [
    "This number is the *relative sea level rise* estimate for North Spit. Wigi, as named by the Wiyot people, is also known as Humboldt Bay. As you can see from the map we made above, the North Spit tide gauge is located in Wigi. **Wigi is experiencing one of the fastest rates of relative sea level rise on the West Coast!** This is mostly due to the sinking (subsidence) of the tectonic plate here."
   ]
  },
  {
   "cell_type": "markdown",
   "id": "392a940b",
   "metadata": {},
   "source": [
    "**Question 3.3.** Write a function `linear_model` which has three inputs: a dependent variable array (x), slope value, and intercept value. It should output an array of independent values (y) for each dependent value. (**2 points**)"
   ]
  },
  {
   "cell_type": "code",
   "execution_count": null,
   "id": "4d158da3",
   "metadata": {
    "tags": []
   },
   "outputs": [],
   "source": [
    "def linear_model(x,slope,intercept):\n",
    "    ..."
   ]
  },
  {
   "cell_type": "code",
   "execution_count": null,
   "id": "788af38a",
   "metadata": {
    "deletable": false,
    "editable": false
   },
   "outputs": [],
   "source": [
    "grader.check(\"q3_3\")"
   ]
  },
  {
   "cell_type": "markdown",
   "id": "1d1634bf",
   "metadata": {},
   "source": [
    "**Question 3.4.** Write a function `linear_fit` which takes the table that consists of an independent variable and a dependent variable as input (for example your `rsl_ns_tbl` should work). The function should use the first column of the table to predict the second column of the table using the linear regression model. For `rsl_ns_tbl` for example, it should output a prediction that is an array of numbers associated with each month in the table. Again, it will be helpful to use the functions `parameter_estimates` and `linear_model` that you defined earlier in this homework. **(3 points)**\n",
    "\n",
    "*Note:* Make sure that your `linear_fit` function is using least squares linear regression."
   ]
  },
  {
   "cell_type": "code",
   "execution_count": null,
   "id": "7e2bca8c",
   "metadata": {
    "tags": []
   },
   "outputs": [],
   "source": [
    "def linear_fit(tbl):\n",
    "    parameters = ...\n",
    "    slope = ...\n",
    "    intercept = ...\n",
    "    ..."
   ]
  },
  {
   "cell_type": "code",
   "execution_count": null,
   "id": "1859e072",
   "metadata": {
    "deletable": false,
    "editable": false
   },
   "outputs": [],
   "source": [
    "grader.check(\"q3_4\")"
   ]
  },
  {
   "cell_type": "markdown",
   "id": "ef730bc5",
   "metadata": {},
   "source": [
    "<!-- BEGIN QUESTION -->\n",
    "\n",
    "**Question 3.5.** Now, using the `linear_fit` function you just defined, make a plot with \"months since December 1979\" along the x-axis and both real and modeled relative sea level along the y-axis. The color of the lines for the real sea level should be different from the color for the predicted sea level. Make sure to label your axes and note your units. **(4 points)**\n",
    "\n",
    "*Hint 1*: An example of a line plot can be found above.\n",
    "\n",
    "*Hint 2*: Think about the table that must be used to generate this line plot. What data should the columns represent? Based on the data that you need, how many columns should be present in this table? Also, what should each row represent? Constructing the table will be the main part of this question; once you have this table, generating the line plot should be more straightforward."
   ]
  },
  {
   "cell_type": "code",
   "execution_count": null,
   "id": "5ffd86fa",
   "metadata": {
    "tags": []
   },
   "outputs": [],
   "source": [
    "..."
   ]
  },
  {
   "cell_type": "markdown",
   "id": "54557bce",
   "metadata": {},
   "source": [
    "<!-- END QUESTION -->\n",
    "\n",
    "**Important comment:** Considering the plot you created in the previous problem, it is clear that a linear model is not a great model for this particular data. The true data are not even close to being linear (we can see the sea level may follow a higher-order pattern). We have produced the line of best fit, but that doesn't mean much when the data points are non-linear trending data; in other words, there will always be a line of best fit for any data, but that does not mean that the data itself is best fit by a linear model. In the rest of this assignment, we will continue to use linear models to study underlying trends in the direction of sea level rise, but this is strictly for practice. You can learn more appropriate methods for this kind of data in future data science classes. "
   ]
  },
  {
   "cell_type": "markdown",
   "id": "9848e129",
   "metadata": {},
   "source": [
    "**Question 3.6.** Add another column to `rsl_ns_tbl` called \"Fit Residual\" with values of the sea level Observations minus the Linear Fit prdictions at North Spit. We will look at this residual in a later section of the activity. **(1 point)**"
   ]
  },
  {
   "cell_type": "code",
   "execution_count": null,
   "id": "9031af4c",
   "metadata": {
    "tags": []
   },
   "outputs": [],
   "source": [
    "rsl_ns_tbl = ...\n",
    "rsl_ns_tbl"
   ]
  },
  {
   "cell_type": "markdown",
   "id": "48c92164",
   "metadata": {},
   "source": [
    "**Question 3.7.** Next create another function called `linear_predictor` that can predict values outside of the domain of the observations. (For example, what if we wanted to know what the sea levels will be in 2100?) This function will be very similar to the linear_fit function you just created but the input and output will change. You will still need to input a table consisting of independent and dependent values, but you will need one additional input representing the new independent value where you want a prediction. There will still be one output variable but it will provide linearly predicted values for the new indepedent values. **(3 points)**"
   ]
  },
  {
   "cell_type": "code",
   "execution_count": null,
   "id": "82184b13",
   "metadata": {
    "tags": []
   },
   "outputs": [],
   "source": [
    "def linear_predictor(tbl,x):\n",
    "    parameters = ...\n",
    "    slope = ...\n",
    "    intercept = ...\n",
    "    ..."
   ]
  },
  {
   "cell_type": "code",
   "execution_count": null,
   "id": "c239c5a0",
   "metadata": {
    "deletable": false,
    "editable": false
   },
   "outputs": [],
   "source": [
    "grader.check(\"q3_7\")"
   ]
  },
  {
   "cell_type": "markdown",
   "id": "f6d79dfb",
   "metadata": {},
   "source": [
    "**Question 3.8.** Now use your `linear_predictor` function to estimate relative sea level at North Spit in meters for the year 2100 (which is 1453 months after December 1979.) **(1 point)**"
   ]
  },
  {
   "cell_type": "code",
   "execution_count": null,
   "id": "dfc62056",
   "metadata": {
    "tags": []
   },
   "outputs": [],
   "source": [
    "..."
   ]
  },
  {
   "cell_type": "markdown",
   "id": "312dbcb5",
   "metadata": {},
   "source": [
    "Here are some official estimates of how sea level is projected to change in the future at *North Spit*, where each color represents a different green house gas emissions scenario. *Note that sea level is shown in meters on the right*\n",
    "\n",
    "<img src=\"NorthSpitSLRprojection.jpg\" alt=\"drawing\" width=\"1000\"/>\n",
    "\n",
    "You can find more info on these projections [here](https://oceanservice.noaa.gov/hazards/sealevelrise/sealevelrise-tech-report-sections.html)."
   ]
  },
  {
   "cell_type": "markdown",
   "id": "172dc954",
   "metadata": {},
   "source": [
    "<!-- BEGIN QUESTION -->\n",
    "\n",
    "**Question 3.9.** Based on your estimate for 2100 and also the shape of these prediction curves, do you think your linear model is reasonable for North Spit? Why or why not? **(4 points)**"
   ]
  },
  {
   "cell_type": "markdown",
   "id": "565ec1bf",
   "metadata": {},
   "source": [
    "_Type your answer here, replacing this text._"
   ]
  },
  {
   "cell_type": "markdown",
   "id": "f0f9fae3",
   "metadata": {},
   "source": [
    "<!-- END QUESTION -->\n",
    "\n",
    "## 4. Sea Level Rise at Crescent City\n",
    "\n",
    "Now let's do something similar for *Crescent City*. First let's make a new table that just has the Crescent City data alongside each month."
   ]
  },
  {
   "cell_type": "code",
   "execution_count": null,
   "id": "d9818187",
   "metadata": {
    "tags": []
   },
   "outputs": [],
   "source": [
    "rsl_cc_tbl = rsl.select('months since December 1979', 'Crescent City').relabeled('Crescent City','Observed')\n",
    "rsl_cc_tbl"
   ]
  },
  {
   "cell_type": "markdown",
   "id": "4da73d8d",
   "metadata": {},
   "source": [
    "Again we will use linear regression to estimate sea level rise here. However, this time we will program our linear regression a slightly different way. Recall that the least-squares regression line is the unique straight line that minimizes root mean squared error (RMSE) among all possible fit lines. Using this property, we can find the equation of the regression line by finding the pair of slope and intercept values that minimize root mean squared error. "
   ]
  },
  {
   "cell_type": "markdown",
   "id": "adf52fc6",
   "metadata": {},
   "source": [
    "**Question 4.1.** Define a function called `errors`.  It should take three arguments:\n",
    "1. a table `tbl` like `rsl_cc_tbl` (with the same column names and meanings, but not necessarily the same data)\n",
    "2. the `slope` of a line (a number)\n",
    "3. the `intercept` of a line (a number).\n",
    "\n",
    "It should **return an array of the errors** made when a line with that slope and intercept is used to predict sea level for each month in the given table. **(3 points)**\n",
    "\n",
    "*Note*: Make sure you are returning an array of the errors, and not the RMSE. "
   ]
  },
  {
   "cell_type": "code",
   "execution_count": null,
   "id": "094eb439",
   "metadata": {
    "tags": []
   },
   "outputs": [],
   "source": [
    "def errors(tbl, slope, intercept):\n",
    "    predictions = ...\n",
    "    ..."
   ]
  },
  {
   "cell_type": "code",
   "execution_count": null,
   "id": "618e157b",
   "metadata": {
    "deletable": false,
    "editable": false
   },
   "outputs": [],
   "source": [
    "grader.check(\"q4_1\")"
   ]
  },
  {
   "cell_type": "markdown",
   "id": "353ce789",
   "metadata": {},
   "source": [
    "<!-- BEGIN QUESTION -->\n",
    "\n",
    "**Question 4.2.** First let's look at a linear model with an arbitrary guess for the slope of `-0.0002` and intercept `0.01` on the *Crescent City* dataset. Add a column to your `rsl_cc_tbl` called \"Linear Guess\" with this linear model's predictions of sea levels at Crescent City. Then make a plot with the months on the x axis and both the \"Observed\" and \"Linear Guess\" values on the y axis. Make sure to label your axes and note your units. **(3 points)**"
   ]
  },
  {
   "cell_type": "code",
   "execution_count": null,
   "id": "7534ffd0",
   "metadata": {
    "tags": []
   },
   "outputs": [],
   "source": [
    "slope_guess = -0.0002\n",
    "intercept_guess = 0.01\n",
    "..."
   ]
  },
  {
   "cell_type": "markdown",
   "id": "e16a0e6e",
   "metadata": {},
   "source": [
    "<!-- END QUESTION -->\n",
    "\n",
    "<!-- BEGIN QUESTION -->\n",
    "\n",
    "**Question 4.3** Now add a column called \"Guess Residual\" to your table for the error of the model using your function `errors`. Then make a plot with the months on the x axis and the errors on the y axis. **(3 points)**"
   ]
  },
  {
   "cell_type": "code",
   "execution_count": null,
   "id": "426f92a1",
   "metadata": {
    "tags": []
   },
   "outputs": [],
   "source": [
    "..."
   ]
  },
  {
   "cell_type": "markdown",
   "id": "4fb9e2ff",
   "metadata": {},
   "source": [
    "<!-- END QUESTION -->\n",
    "\n",
    "Note that the residual in the plot we just made is almost always positive.  This means our linear model, using our guessed parameters, is not a very good fit to the data. (We want the residuals to be positive as often as they are negative.)"
   ]
  },
  {
   "cell_type": "markdown",
   "id": "a8328061",
   "metadata": {},
   "source": [
    "**Question 4.4.** Define a **NEW** function called `fit_line`.  It should take a table like `rsl_cc_tbl` (with the same column meanings) as its argument.  It should return an array containing the slope (as the first element) and intercept (as the second element) of the least-squares regression line predicting sea levels from the month for that table. **(5 points)**\n",
    "\n",
    "*Hint*: Define a function `rmse` within `fit_line` that takes a slope and intercept as its arguments. `rmse` will use the table passed into `fit_line` to compute predicted outcomes and then return the root mean squared error between the predicted and actual outcomes. Within `fit_line`, you can call `rmse` the way you would any other function.\n",
    "\n",
    "If you haven't tried to use the `minimize` [function](http://data8.org/sp22/python-reference.html) yet, now is a great time to practice. Here's an [example from the textbook](https://www.inferentialthinking.com/chapters/15/3/Method_of_Least_Squares.html#numerical-optimization)."
   ]
  },
  {
   "cell_type": "code",
   "execution_count": null,
   "id": "530761c6",
   "metadata": {
    "tags": []
   },
   "outputs": [],
   "source": [
    "...\n",
    "def fit_line(tbl):\n",
    "    # Your code may need more than 1 line below here.\n",
    "    def rmse(..., ...):\n",
    "        return ... \n",
    "    return ... \n",
    "    \n",
    "# Here is an example call to your function.  To test your function,\n",
    "# figure out the right slope and intercept by hand.\n",
    "example_table = Table().with_columns(\n",
    "    \"months since December 1979\", make_array(0, 1),\n",
    "    \"Crescent City\", make_array(1, 3))\n",
    "fit_line(example_table)"
   ]
  },
  {
   "cell_type": "code",
   "execution_count": null,
   "id": "d7187684",
   "metadata": {
    "deletable": false,
    "editable": false
   },
   "outputs": [],
   "source": [
    "grader.check(\"q4_4\")"
   ]
  },
  {
   "cell_type": "markdown",
   "id": "12411a00",
   "metadata": {},
   "source": [
    "**Question 4.5.** Use `fit_line` to fit a line to the sea levels at Crescent City, and assign the output to `best_line`. Assign the first and second elements in `best_line` to `best_line_slope` and `best_line_intercept`, respectively. **(2 points)**\n",
    "\n",
    "The code provided will add the best line fit to your `rsl_cc_tbl` and plot your best line that minimizes RMSE on top of the Crescent City sea level time series. It will also print the values for the slope and intercept. "
   ]
  },
  {
   "cell_type": "code",
   "execution_count": null,
   "id": "c620dd6b",
   "metadata": {
    "tags": []
   },
   "outputs": [],
   "source": [
    "best_line = ...\n",
    "slope_best = ...\n",
    "intercept_best = ...\n",
    "\n",
    "# This code plots your best line fit on top of the Cresent City RSL time series\n",
    "rsl_cc_tbl = rsl_cc_tbl.with_column('Linear Fit',linear_model(rsl_cc_tbl.column(0),slope_best,intercept_best))\n",
    "rsl_cc_tbl.plot('months since December 1979',['Observed', 'Linear Fit'])\n",
    "plt.title('Monthly Average RSL at Crescent City (Seasonal Removed)')\n",
    "plt.ylabel('RSL [meters]')\n",
    "\n",
    "# This just prints your slope and intercept\n",
    "\"Slope: {:g} | Intercept: {:g}\".format(slope_best, intercept_best)"
   ]
  },
  {
   "cell_type": "markdown",
   "id": "b374a59f",
   "metadata": {},
   "source": [
    "**Question 4.6.** How do your `slope_best` and `intercept_best` values compare to the values we get from our `parameter estimate` function? **(2 points)**"
   ]
  },
  {
   "cell_type": "code",
   "execution_count": null,
   "id": "ba45c849",
   "metadata": {
    "tags": []
   },
   "outputs": [],
   "source": [
    "parameters = ...\n",
    "slope = ...\n",
    "intercept = ...\n",
    "print(\"Slope Parameter Estimate: {:g} | Slope RMSE Minimized: {:g}\".format(slope, slope_best))\n",
    "print(\"Intercept Parameter Estimate: {:g} | Intercept RMSE Minimized: {:g}\".format(intercept, intercept_best))"
   ]
  },
  {
   "cell_type": "markdown",
   "id": "cca81965",
   "metadata": {},
   "source": [
    "<!-- BEGIN QUESTION -->\n",
    "\n",
    "**Question 4.7.** Did you expect that the two slope estimates would be similar? Did you expect that the two intercept estimates would be similar? Why or why not? **(3 points)**"
   ]
  },
  {
   "cell_type": "markdown",
   "id": "52206b26",
   "metadata": {},
   "source": [
    "_Type your answer here, replacing this text._"
   ]
  },
  {
   "cell_type": "markdown",
   "id": "a11ad456",
   "metadata": {},
   "source": [
    "<!-- END QUESTION -->\n",
    "\n",
    "**Question 4.8.** Convert the slope for *Crescent City* from meters per month to millimeters per year (which are the units typically used to document sea level rise) **(1 point)**"
   ]
  },
  {
   "cell_type": "code",
   "execution_count": null,
   "id": "55843b81",
   "metadata": {
    "tags": []
   },
   "outputs": [],
   "source": [
    "rsl_cc_slope_mm_per_year = ...\n",
    "rsl_cc_slope_mm_per_year"
   ]
  },
  {
   "cell_type": "markdown",
   "id": "4bfc7dae",
   "metadata": {},
   "source": [
    "This number is the *relative sea level **rise*** estimate for *Crescent City*. Note that this number is **NEGATIVE** which means that relative sea level is going down! This is mostly due to the rising of the tectonic plate here!"
   ]
  },
  {
   "cell_type": "markdown",
   "id": "ca2df0ab",
   "metadata": {},
   "source": [
    "**Question 4.9.** Now use the `linear_predictor` function that you created earlier to estimate relative sea level at *Crescent City* in meters for the year 2100 (which is 1453 months after December 1979.) **(1 point)**"
   ]
  },
  {
   "cell_type": "code",
   "execution_count": null,
   "id": "c5daf0f0",
   "metadata": {
    "tags": []
   },
   "outputs": [],
   "source": [
    "..."
   ]
  },
  {
   "cell_type": "markdown",
   "id": "34a8d664",
   "metadata": {},
   "source": [
    "Here are some official estimates of how sea level is projected to change in the future at *Crescent City*, where each color represents a different green house gas emissions scenario. *Note that sea level is shown in meters on the right*\n",
    "\n",
    "<img src=\"CrescentCitySLRprojection.jpg\" alt=\"drawing\" width=\"1000\"/>\n",
    "\n",
    "You can find more info on these projections [here](https://oceanservice.noaa.gov/hazards/sealevelrise/sealevelrise-tech-report-sections.html)."
   ]
  },
  {
   "cell_type": "markdown",
   "id": "79c159da",
   "metadata": {},
   "source": [
    "<!-- BEGIN QUESTION -->\n",
    "\n",
    "**Question 4.10.** Based on your estimate for 2100 and also the shape of these prediction curves, do you think your linear model is reasonable for Crescent City? Why or why not? **(4 points)**"
   ]
  },
  {
   "cell_type": "markdown",
   "id": "d649bca3",
   "metadata": {},
   "source": [
    "_Type your answer here, replacing this text._"
   ]
  },
  {
   "cell_type": "markdown",
   "id": "675c879e",
   "metadata": {},
   "source": [
    "<!-- END QUESTION -->\n",
    "\n",
    "**Question 4.11.** Next, add a new column to `rsl_cc_tbl` called \"Fit Residual\" which contains the errors that we get by calling `errors` with our best fit line. We will use this data in the next section."
   ]
  },
  {
   "cell_type": "code",
   "execution_count": null,
   "id": "71c253d2",
   "metadata": {
    "tags": []
   },
   "outputs": [],
   "source": [
    "rsl_cc_tbl = ..."
   ]
  },
  {
   "cell_type": "markdown",
   "id": "6bba8524",
   "metadata": {},
   "source": [
    "## 5. Detrended Sea Level Variability"
   ]
  },
  {
   "cell_type": "markdown",
   "id": "f5cad9fd",
   "metadata": {},
   "source": [
    "Now we understand the reason why sea levels at North Spit and Crescent City look different: it is primarily because the tectonic plate is rising at Crescent City and sinking at North Spit. Here we plot the two time series on top of each other again, so we can remember what they look like compared to each other. "
   ]
  },
  {
   "cell_type": "code",
   "execution_count": null,
   "id": "1e4ff0fc",
   "metadata": {},
   "outputs": [],
   "source": [
    "rsl.plot(\"months since December 1979\",[\"North Spit\", \"Crescent City\"])\n",
    "plt.title('Monthly Average RSL (Seasonal Removed)')\n",
    "plt.ylabel('RSL [meters]')"
   ]
  },
  {
   "cell_type": "markdown",
   "id": "1d15e4d2",
   "metadata": {},
   "source": [
    "**Question 5.1.** Compute the correlation coefficient between the North Spit and Crescent City station time series. **(2 points)**\n",
    "\n",
    "*Note:* It might be helpful to use the `correlation` function you created earlier."
   ]
  },
  {
   "cell_type": "code",
   "execution_count": null,
   "id": "85a07bc0",
   "metadata": {
    "tags": []
   },
   "outputs": [],
   "source": [
    "r = ...\n",
    "r"
   ]
  },
  {
   "cell_type": "code",
   "execution_count": null,
   "id": "e06d43d3",
   "metadata": {
    "deletable": false,
    "editable": false
   },
   "outputs": [],
   "source": [
    "grader.check(\"q5_1\")"
   ]
  },
  {
   "cell_type": "markdown",
   "id": "f235ac03",
   "metadata": {},
   "source": [
    "<!-- BEGIN QUESTION -->\n",
    "\n",
    "**Question 5.2.** Go ahead and make a new table called `detrended_rsl` which has the columns \"months since Decemember 1979\", and the fit residuals from \"North Spit\" and \"Crescent City\". Then make a visualizaiton showing the association between the residuals for North Spit and the residuals for Crescent City. **(2 points)**"
   ]
  },
  {
   "cell_type": "code",
   "execution_count": null,
   "id": "ed505907",
   "metadata": {
    "tags": []
   },
   "outputs": [],
   "source": [
    "..."
   ]
  },
  {
   "cell_type": "markdown",
   "id": "823a6d80",
   "metadata": {},
   "source": [
    "<!-- END QUESTION -->\n",
    "\n",
    "**Question 5.3.** Now calculate the correlation of these detrended time series with each other. **(2 points)**"
   ]
  },
  {
   "cell_type": "code",
   "execution_count": null,
   "id": "3f0dd5b5",
   "metadata": {
    "tags": []
   },
   "outputs": [],
   "source": [
    "r_detrended = ...\n",
    "r_detrended"
   ]
  },
  {
   "cell_type": "markdown",
   "id": "d1d26851",
   "metadata": {},
   "source": [
    "<!-- BEGIN QUESTION -->\n",
    "\n",
    "**Question 5.4.** Now we are able to see that these two locations also have a lot in common in tems of relative sea level residuals. The two peaks in the residual times series are at around months 50 and 220, which correspond to the winters of 1982-83 and 1997-98. What is your hypthosis for why sea levels were elevated so far above the trend during those times? **(4 points)**\n",
    "\n",
    "*Hint 1:* Download and read [this page](https://humboldt.cloudbank.2i2c.cloud/hub/user-redirect/git-sync?repo=https://github.com/bludka/materials-sp22&urlpath=tree/materials-sp22/hw/hw10_Humboldt/NASA_El_Nino.pdf) from NASA Science's \"Share the Science\" website. \n",
    "\n",
    "*Hint 2:* Download and read [this page](https://humboldt.cloudbank.2i2c.cloud/hub/user-redirect/git-sync?repo=https://github.com/bludka/materials-sp22&urlpath=tree/materials-sp22/hw/hw10_Humboldt/RisingSeasInCaliforniaBox1.pdf) from the California Ocean Protection Council's \"Rising Seas in California\" report to answer this question. "
   ]
  },
  {
   "cell_type": "markdown",
   "id": "64fd1985",
   "metadata": {},
   "source": [
    "_Type your answer here, replacing this text._"
   ]
  },
  {
   "cell_type": "markdown",
   "id": "10f32ec0",
   "metadata": {},
   "source": [
    "<!-- END QUESTION -->\n",
    "\n",
    "You're done with Homework 10!  \n",
    "\n",
    "**Important submission steps:** \n",
    "1. Run the tests and verify that they all pass.\n",
    "2. Choose **Save Notebook** from the **File** menu, then **run the final cell**. \n",
    "3. Click the link to download the zip file.\n",
    "4. Then submit the zip file to the corresponding assignment according to your instructor's directions. \n",
    "\n",
    "**It is your responsibility to make sure your work is saved before running the last cell.**"
   ]
  },
  {
   "cell_type": "markdown",
   "id": "bf20c120",
   "metadata": {
    "deletable": false,
    "editable": false
   },
   "source": [
    "## Submission\n",
    "\n",
    "Make sure you have run all cells in your notebook in order before running the cell below, so that all images/graphs appear in the output. The cell below will generate a zip file for you to submit. **Please save before exporting!**"
   ]
  },
  {
   "cell_type": "code",
   "execution_count": null,
   "id": "d506ee04",
   "metadata": {
    "deletable": false,
    "editable": false
   },
   "outputs": [],
   "source": [
    "# Save your notebook first, then run this cell to export your submission.\n",
    "grader.export(run_tests=True)"
   ]
  },
  {
   "cell_type": "markdown",
   "id": "c2b055bb",
   "metadata": {},
   "source": [
    " "
   ]
  }
 ],
 "metadata": {
  "kernelspec": {
   "display_name": "Python 3 (ipykernel)",
   "language": "python",
   "name": "python3"
  },
  "language_info": {
   "codemirror_mode": {
    "name": "ipython",
    "version": 3
   },
   "file_extension": ".py",
   "mimetype": "text/x-python",
   "name": "python",
   "nbconvert_exporter": "python",
   "pygments_lexer": "ipython3",
   "version": "3.11.4"
  },
  "otter": {
   "OK_FORMAT": true,
   "tests": {
    "q1_1": {
     "name": "q1_1",
     "points": [
      0,
      0,
      0
     ],
     "suites": [
      {
       "cases": [
        {
         "code": ">>> standard_units([1,2,3,4,5])\narray([-1.41421356, -0.70710678,  0.        ,  0.70710678,  1.41421356])",
         "hidden": false,
         "locked": false
        },
        {
         "code": ">>> np.isclose(np.mean(standard_units([1,2,3,4,5])), 0)\nTrue",
         "hidden": false,
         "locked": false
        },
        {
         "code": ">>> np.isclose(np.std(standard_units([1,2,3,4,5])), 0.9999999999999999)\nTrue",
         "hidden": false,
         "locked": false
        }
       ],
       "scored": true,
       "setup": "",
       "teardown": "",
       "type": "doctest"
      }
     ]
    },
    "q1_2": {
     "name": "q1_2",
     "points": [
      0
     ],
     "suites": [
      {
       "cases": [
        {
         "code": ">>> np.isclose(correlation([1,2,3], [4,5,6]), 0.9999999999999999)\nTrue",
         "hidden": false,
         "locked": false
        }
       ],
       "scored": true,
       "setup": "",
       "teardown": "",
       "type": "doctest"
      }
     ]
    },
    "q1_3_manual": {
     "name": "q1_3_manual",
     "points": [],
     "suites": [
      {
       "cases": [],
       "scored": true,
       "setup": "",
       "teardown": "",
       "type": "doctest"
      }
     ]
    },
    "q1_4_manual": {
     "name": "q1_4_manual",
     "points": [],
     "suites": [
      {
       "cases": [],
       "scored": true,
       "setup": "",
       "teardown": "",
       "type": "doctest"
      }
     ]
    },
    "q1_5": {
     "name": "q1_5",
     "points": [
      0,
      0,
      0
     ],
     "suites": [
      {
       "cases": [
        {
         "code": ">>> len(parameters) == 3\nTrue",
         "hidden": false,
         "locked": false
        },
        {
         "code": ">>> # Make sure your function is returning an array!\n>>> type(parameters) == np.ndarray\nTrue",
         "hidden": false,
         "locked": false
        },
        {
         "code": ">>> np.isclose(parameters.item(0), 0.8343076972837598)\nTrue",
         "hidden": false,
         "locked": false
        }
       ],
       "scored": true,
       "setup": "",
       "teardown": "",
       "type": "doctest"
      }
     ]
    },
    "q1_6": {
     "name": "q1_6",
     "points": [
      0,
      0
     ],
     "suites": [
      {
       "cases": [
        {
         "code": ">>> # Make sure regression_changes is a numpy array with 3 items!\n>>> len(regression_changes) == 3 and type(regression_changes) == np.ndarray\nTrue",
         "hidden": false,
         "locked": false
        },
        {
         "code": ">>> regression_changes.item(0) in set([0, 1, False, True])\nTrue",
         "hidden": false,
         "locked": false
        }
       ],
       "scored": true,
       "setup": "",
       "teardown": "",
       "type": "doctest"
      }
     ]
    },
    "q1_7": {
     "name": "q1_7",
     "points": [
      0
     ],
     "suites": [
      {
       "cases": [
        {
         "code": ">>> 100 <= triple_record_vert_est <= 200\nTrue",
         "hidden": false,
         "locked": false
        }
       ],
       "scored": true,
       "setup": "",
       "teardown": "",
       "type": "doctest"
      }
     ]
    },
    "q1_8_manual": {
     "name": "q1_8_manual",
     "points": [],
     "suites": [
      {
       "cases": [],
       "scored": true,
       "setup": "",
       "teardown": "",
       "type": "doctest"
      }
     ]
    },
    "q2_1_manual": {
     "name": "q2_1_manual",
     "points": [],
     "suites": [
      {
       "cases": [],
       "scored": true,
       "setup": "",
       "teardown": "",
       "type": "doctest"
      }
     ]
    },
    "q2_2_manual": {
     "name": "q2_2_manual",
     "points": [],
     "suites": [
      {
       "cases": [],
       "scored": true,
       "setup": "",
       "teardown": "",
       "type": "doctest"
      }
     ]
    },
    "q3_1": {
     "name": "q3_1",
     "points": [
      0,
      0
     ],
     "suites": [
      {
       "cases": [
        {
         "code": ">>> 0 <= rsl_ns_slope < 1\nTrue",
         "hidden": false,
         "locked": false
        },
        {
         "code": ">>> rsl_ns_intercept < 0\nTrue",
         "hidden": false,
         "locked": false
        }
       ],
       "scored": true,
       "setup": "",
       "teardown": "",
       "type": "doctest"
      }
     ]
    },
    "q3_2": {
     "name": "q3_2",
     "points": [],
     "suites": [
      {
       "cases": [],
       "scored": true,
       "setup": "",
       "teardown": "",
       "type": "doctest"
      }
     ]
    },
    "q3_3": {
     "name": "q3_3",
     "points": [
      0
     ],
     "suites": [
      {
       "cases": [
        {
         "code": ">>> np.isclose(linear_model(0,0,0),0) \nTrue",
         "hidden": false,
         "locked": false
        }
       ],
       "scored": true,
       "setup": "",
       "teardown": "",
       "type": "doctest"
      }
     ]
    },
    "q3_4": {
     "name": "q3_4",
     "points": [
      0
     ],
     "suites": [
      {
       "cases": [
        {
         "code": ">>> np.allclose(linear_fit(Table().with_column('x',np.array([1,2])).with_column('y',np.array([1,2]))),[1, 2])\nTrue",
         "hidden": false,
         "locked": false
        }
       ],
       "scored": true,
       "setup": "",
       "teardown": "",
       "type": "doctest"
      }
     ]
    },
    "q3_5_manual": {
     "name": "q3_5_manual",
     "points": [],
     "suites": [
      {
       "cases": [],
       "scored": true,
       "setup": "",
       "teardown": "",
       "type": "doctest"
      }
     ]
    },
    "q3_6": {
     "name": "q3_6",
     "points": [],
     "suites": [
      {
       "cases": [],
       "scored": true,
       "setup": "",
       "teardown": "",
       "type": "doctest"
      }
     ]
    },
    "q3_7": {
     "name": "q3_7",
     "points": [
      0
     ],
     "suites": [
      {
       "cases": [
        {
         "code": ">>> np.isclose(linear_predictor(Table().with_column('x',np.array([1,2])).with_column('y',np.array([1,2])),3),3)\nTrue",
         "hidden": false,
         "locked": false
        }
       ],
       "scored": true,
       "setup": "",
       "teardown": "",
       "type": "doctest"
      }
     ]
    },
    "q3_8": {
     "name": "q3_8",
     "points": [],
     "suites": [
      {
       "cases": [],
       "scored": true,
       "setup": "",
       "teardown": "",
       "type": "doctest"
      }
     ]
    },
    "q3_9_manual": {
     "name": "q3_9_manual",
     "points": [],
     "suites": [
      {
       "cases": [],
       "scored": true,
       "setup": "",
       "teardown": "",
       "type": "doctest"
      }
     ]
    },
    "q4_1": {
     "name": "q4_1",
     "points": [
      0,
      0
     ],
     "suites": [
      {
       "cases": [
        {
         "code": ">>> type(errors(rsl_cc_tbl, 0, 0).item(0)) in set([float, np.float32, np.float64])\nTrue",
         "hidden": false,
         "locked": false
        },
        {
         "code": ">>> len(errors(rsl_cc_tbl, 0, 0)) == 512\nTrue",
         "hidden": false,
         "locked": false
        }
       ],
       "scored": true,
       "setup": "",
       "teardown": "",
       "type": "doctest"
      }
     ]
    },
    "q4_10_manual": {
     "name": "q4_10_manual",
     "points": [],
     "suites": [
      {
       "cases": [],
       "scored": true,
       "setup": "",
       "teardown": "",
       "type": "doctest"
      }
     ]
    },
    "q4_11": {
     "name": "q4_11",
     "points": [],
     "suites": [
      {
       "cases": [],
       "scored": true,
       "setup": "",
       "teardown": "",
       "type": "doctest"
      }
     ]
    },
    "q4_2_manual": {
     "name": "q4_2_manual",
     "points": [],
     "suites": [
      {
       "cases": [],
       "scored": true,
       "setup": "",
       "teardown": "",
       "type": "doctest"
      }
     ]
    },
    "q4_3_manual": {
     "name": "q4_3_manual",
     "points": [],
     "suites": [
      {
       "cases": [],
       "scored": true,
       "setup": "",
       "teardown": "",
       "type": "doctest"
      }
     ]
    },
    "q4_4": {
     "name": "q4_4",
     "points": [
      0,
      0
     ],
     "suites": [
      {
       "cases": [
        {
         "code": ">>> type(fit_line(example_table)) == np.ndarray\nTrue",
         "hidden": false,
         "locked": false
        },
        {
         "code": ">>> type(fit_line(example_table).item(0)) in set([float, np.float32, np.float64])\nTrue",
         "hidden": false,
         "locked": false
        }
       ],
       "scored": true,
       "setup": "",
       "teardown": "",
       "type": "doctest"
      }
     ]
    },
    "q4_5": {
     "name": "q4_5",
     "points": [],
     "suites": [
      {
       "cases": [],
       "scored": true,
       "setup": "",
       "teardown": "",
       "type": "doctest"
      }
     ]
    },
    "q4_6": {
     "name": "q4_6",
     "points": [],
     "suites": [
      {
       "cases": [],
       "scored": true,
       "setup": "",
       "teardown": "",
       "type": "doctest"
      }
     ]
    },
    "q4_7_manual": {
     "name": "q4_7_manual",
     "points": [],
     "suites": [
      {
       "cases": [],
       "scored": true,
       "setup": "",
       "teardown": "",
       "type": "doctest"
      }
     ]
    },
    "q4_8": {
     "name": "q4_8",
     "points": [],
     "suites": [
      {
       "cases": [],
       "scored": true,
       "setup": "",
       "teardown": "",
       "type": "doctest"
      }
     ]
    },
    "q4_9": {
     "name": "q4_9",
     "points": [],
     "suites": [
      {
       "cases": [],
       "scored": true,
       "setup": "",
       "teardown": "",
       "type": "doctest"
      }
     ]
    },
    "q5_1": {
     "name": "q5_1",
     "points": [
      2
     ],
     "suites": [
      {
       "cases": [
        {
         "code": ">>> np.isclose(round(r,3),0.19)\nTrue",
         "hidden": false,
         "locked": false
        }
       ],
       "scored": true,
       "setup": "",
       "teardown": "",
       "type": "doctest"
      }
     ]
    },
    "q5_2_manual": {
     "name": "q5_2_manual",
     "points": [],
     "suites": [
      {
       "cases": [],
       "scored": true,
       "setup": "",
       "teardown": "",
       "type": "doctest"
      }
     ]
    },
    "q5_3": {
     "name": "q5_3",
     "points": [],
     "suites": [
      {
       "cases": [],
       "scored": true,
       "setup": "",
       "teardown": "",
       "type": "doctest"
      }
     ]
    },
    "q5_4_manual": {
     "name": "q5_4_manual",
     "points": [],
     "suites": [
      {
       "cases": [],
       "scored": true,
       "setup": "",
       "teardown": "",
       "type": "doctest"
      }
     ]
    }
   }
  }
 },
 "nbformat": 4,
 "nbformat_minor": 5
}
